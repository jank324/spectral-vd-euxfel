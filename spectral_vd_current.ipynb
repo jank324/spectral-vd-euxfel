{
 "metadata": {
  "language_info": {
   "codemirror_mode": {
    "name": "ipython",
    "version": 3
   },
   "file_extension": ".py",
   "mimetype": "text/x-python",
   "name": "python",
   "nbconvert_exporter": "python",
   "pygments_lexer": "ipython3",
   "version": "3.8.9"
  },
  "orig_nbformat": 2,
  "kernelspec": {
   "name": "python389jvsc74a57bd0aee8b7b246df8f9039afb4144a1f6fd8d2ca17a180786b69acc140d282b71a49",
   "display_name": "Python 3.8.9 64-bit ('local')"
  },
  "metadata": {
   "interpreter": {
    "hash": "aee8b7b246df8f9039afb4144a1f6fd8d2ca17a180786b69acc140d282b71a49"
   }
  }
 },
 "nbformat": 4,
 "nbformat_minor": 2,
 "cells": [
  {
   "cell_type": "code",
   "execution_count": 1,
   "metadata": {},
   "outputs": [],
   "source": [
    "from functools import partial\n",
    "import pickle\n",
    "\n",
    "from lmfit.models import GaussianModel\n",
    "import matplotlib.pyplot as plt\n",
    "import numpy as np\n",
    "from scipy import ndimage\n",
    "\n",
    "from mint.snapshot import SnapshotDB"
   ]
  },
  {
   "source": [
    "## Load measurement data and reprocess current profiles"
   ],
   "cell_type": "markdown",
   "metadata": {}
  },
  {
   "cell_type": "code",
   "execution_count": 2,
   "metadata": {},
   "outputs": [],
   "source": [
    "shear = 0.0027162e-12\n",
    "pixel_size = 5.435999948531389e-6"
   ]
  },
  {
   "cell_type": "code",
   "execution_count": 3,
   "metadata": {},
   "outputs": [],
   "source": [
    "snapshot_db = SnapshotDB(\"original/20210221-01_30_17_scan_phase1.pcl\")\n",
    "raw = snapshot_db.load()"
   ]
  },
  {
   "cell_type": "code",
   "execution_count": 4,
   "metadata": {},
   "outputs": [],
   "source": [
    "def load_tds_image(path):\n",
    "    with open(\"original/\" + path[2:-4] + \".pcl\", \"rb\") as file:\n",
    "        image = pickle.load(file)\n",
    "    return image"
   ]
  },
  {
   "cell_type": "code",
   "execution_count": 5,
   "metadata": {},
   "outputs": [],
   "source": [
    "data = raw[[\"XFEL.UTIL/BUNCH_PATTERN/CONTROL/BEAM_ALLOWED\",\n",
    "            \"XFEL.DIAG/CAMERA/OTRA.473.B2D/IMAGE_EXT_ZMQ\",\n",
    "            \"XFEL.RF/LLRF.SUMVOLTAGE_CTRL/L1/SUMVOLTAGE.CHIRP.SP.1\",\n",
    "            \"XFEL.DIAG/CHARGE.ML/TORA.25.I1/CHARGE.ALL\"]]\n",
    "\n",
    "data = data.rename(columns={\"XFEL.UTIL/BUNCH_PATTERN/CONTROL/BEAM_ALLOWED\": \"beam_allowed\",\n",
    "                            \"XFEL.DIAG/CAMERA/OTRA.473.B2D/IMAGE_EXT_ZMQ\": \"tds_image_path\",\n",
    "                            \"XFEL.RF/LLRF.SUMVOLTAGE_CTRL/L1/SUMVOLTAGE.CHIRP.SP.1\": \"l1_chirp_phase\",\n",
    "                            \"XFEL.DIAG/CHARGE.ML/TORA.25.I1/CHARGE.ALL\": \"charge\"})\n",
    "\n",
    "data[\"tds_image\"] = data[\"tds_image_path\"].apply(load_tds_image)\n",
    "data[\"beam_allowed\"] = data[\"beam_allowed\"].astype(bool)\n",
    "data[\"charge\"] = data[\"charge\"] * 10e-9"
   ]
  },
  {
   "cell_type": "code",
   "execution_count": 6,
   "metadata": {},
   "outputs": [],
   "source": [
    "def denoise(image):\n",
    "    \"\"\"Denoise `image`.\"\"\"\n",
    "    denoised = ndimage.uniform_filter(image, size=12)\n",
    "    denoised[denoised < 0.05 * denoised.max()] = 0\n",
    "    return denoised"
   ]
  },
  {
   "cell_type": "code",
   "execution_count": 22,
   "metadata": {},
   "outputs": [],
   "source": [
    "def extract_current_profile(tds_image, charge, shear, pixel_size):\n",
    "    \"\"\"Extract current profile.\"\"\"\n",
    "\n",
    "    seconds_per_pixel = pixel_size / shear\n",
    "\n",
    "    view = tds_image.sum(axis=0)\n",
    "    current = charge / seconds_per_pixel * view / view.sum()\n",
    "    times = np.arange(len(current)) * seconds_per_pixel\n",
    "\n",
    "    xs = np.arange(len(current))\n",
    "    model = GaussianModel()\n",
    "    guess = model.guess(current, x=xs)\n",
    "    fit = model.fit(current, guess, x=xs)\n",
    "\n",
    "    a = int(fit.params[\"center\"].value - 5 * fit.params[\"sigma\"].value)\n",
    "    b = int(fit.params[\"center\"].value + 5 * fit.params[\"sigma\"].value)\n",
    "    extracted = current[a:b]\n",
    "    extracted_times = times[a:b] - fit.params[\"center\"].value * seconds_per_pixel\n",
    "\n",
    "    return np.vstack((extracted_times, extracted))"
   ]
  },
  {
   "cell_type": "code",
   "execution_count": 23,
   "metadata": {},
   "outputs": [],
   "source": [
    "# Get background\n",
    "background = data.loc[1:6,\"tds_image\"].mean()\n",
    "\n",
    "# Average charges and images\n",
    "charges = data[6:].groupby(\"l1_chirp_phase\")[\"charge\"].mean()\n",
    "\n",
    "average_images = lambda images: np.stack(images).mean(axis=0)\n",
    "tds_images = data[6:].groupby(\"l1_chirp_phase\")[\"tds_image\"].apply(average_images)\n",
    "\n",
    "tds_images = tds_images.apply(lambda image: image.clip(0, 4095))\n",
    "\n",
    "# Remove background\n",
    "remove_background = lambda image: (image - background).clip(0, 4095)\n",
    "tds_images = tds_images.apply(remove_background)\n",
    "\n",
    "tds_images = tds_images.apply(denoise)\n",
    "\n",
    "current_profiles = [extract_current_profile(tds_images[chirp], charges[chirp], shear, pixel_size) for chirp in tds_images.index]"
   ]
  },
  {
   "cell_type": "code",
   "execution_count": 28,
   "metadata": {},
   "outputs": [
    {
     "output_type": "execute_result",
     "data": {
      "text/plain": [
       "17"
      ]
     },
     "metadata": {},
     "execution_count": 28
    }
   ],
   "source": [
    "len(current_profiles)"
   ]
  },
  {
   "cell_type": "code",
   "execution_count": 14,
   "metadata": {},
   "outputs": [
    {
     "output_type": "execute_result",
     "data": {
      "text/plain": [
       "(17,)"
      ]
     },
     "metadata": {},
     "execution_count": 14
    }
   ],
   "source": [
    "tds_images.values.shape"
   ]
  },
  {
   "cell_type": "code",
   "execution_count": 16,
   "metadata": {},
   "outputs": [
    {
     "output_type": "execute_result",
     "data": {
      "text/plain": [
       "(17,)"
      ]
     },
     "metadata": {},
     "execution_count": 16
    }
   ],
   "source": [
    "charges.values.shape"
   ]
  },
  {
   "cell_type": "code",
   "execution_count": null,
   "metadata": {},
   "outputs": [],
   "source": []
  }
 ]
}
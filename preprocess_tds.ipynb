{
 "metadata": {
  "language_info": {
   "codemirror_mode": {
    "name": "ipython",
    "version": 3
   },
   "file_extension": ".py",
   "mimetype": "text/x-python",
   "name": "python",
   "nbconvert_exporter": "python",
   "pygments_lexer": "ipython3",
   "version": "3.8.7-final"
  },
  "orig_nbformat": 2,
  "kernelspec": {
   "name": "python3",
   "display_name": "Python 3.8.7 64-bit",
   "metadata": {
    "interpreter": {
     "hash": "aee8b7b246df8f9039afb4144a1f6fd8d2ca17a180786b69acc140d282b71a49"
    }
   }
  }
 },
 "nbformat": 4,
 "nbformat_minor": 2,
 "cells": [
  {
   "cell_type": "code",
   "execution_count": 1,
   "metadata": {},
   "outputs": [],
   "source": [
    "import pickle\n",
    "import pandas as pd\n",
    "from mint.snapshot import SnapshotDB"
   ]
  },
  {
   "cell_type": "code",
   "execution_count": 2,
   "metadata": {},
   "outputs": [
    {
     "output_type": "execute_result",
     "data": {
      "text/plain": [
       "     index     timestamp  BPMA.469.B2D.X  BPMA.471.B2D.X  BPMA.477.B2D.X  \\\n",
       "0        0  1.613868e+09       -0.589831       -0.471220       -9.741132   \n",
       "1        0  1.613868e+09             NaN             NaN             NaN   \n",
       "2        0  1.613868e+09             NaN             NaN             NaN   \n",
       "3        0  1.613868e+09             NaN             NaN             NaN   \n",
       "4        0  1.613868e+09             NaN             NaN             NaN   \n",
       "..     ...           ...             ...             ...             ...   \n",
       "191      0  1.613869e+09       -1.316300       -0.770797       -5.907073   \n",
       "192      0  1.613869e+09       -0.914917       -0.584775       -7.026993   \n",
       "193      0  1.613869e+09       -1.374585       -0.794467       -5.790493   \n",
       "194      0  1.613869e+09       -1.349098       -0.795484       -5.829101   \n",
       "195      0  1.613869e+09       -1.372998       -0.797720       -5.739698   \n",
       "\n",
       "     BPMD.479.B2D.X  BPMA.469.B2D.Y  BPMA.471.B2D.Y  BPMA.477.B2D.Y  \\\n",
       "0         -9.526670       -0.244605        2.093896       -2.783150   \n",
       "1               NaN             NaN             NaN             NaN   \n",
       "2               NaN             NaN             NaN             NaN   \n",
       "3               NaN             NaN             NaN             NaN   \n",
       "4               NaN             NaN             NaN             NaN   \n",
       "..              ...             ...             ...             ...   \n",
       "191       -2.471321       -0.166762        2.119604       -3.778158   \n",
       "192       -5.000465       -0.212766        2.066451       -3.217293   \n",
       "193       -2.296219       -0.239866        2.037420       -3.697212   \n",
       "194       -2.336125       -0.176721        2.114249       -3.808399   \n",
       "195       -2.178849       -0.246581        2.027040       -3.672352   \n",
       "\n",
       "     BPMD.479.B2D.Y  ...  XFEL.UTIL/LASERHEATER.MOTOR/P1Z.LHOS0/FPOS  \\\n",
       "0         -7.117940  ...                                    0.279977   \n",
       "1               NaN  ...                                    0.279977   \n",
       "2               NaN  ...                                    0.279977   \n",
       "3               NaN  ...                                    0.279977   \n",
       "4               NaN  ...                                    0.279977   \n",
       "..              ...  ...                                         ...   \n",
       "191       -7.493450  ...                                    0.279977   \n",
       "192       -6.750689  ...                                    0.279977   \n",
       "193       -7.249082  ...                                    0.279977   \n",
       "194       -7.521989  ...                                    0.279977   \n",
       "195       -7.153725  ...                                    0.279977   \n",
       "\n",
       "     XFEL.UTIL/LASERHEATER.MOTOR/LAMBDA2.LHOS0/POS  \\\n",
       "0                                             1600   \n",
       "1                                             1600   \n",
       "2                                             1600   \n",
       "3                                             1600   \n",
       "4                                             1600   \n",
       "..                                             ...   \n",
       "191                                           1600   \n",
       "192                                           1600   \n",
       "193                                           1600   \n",
       "194                                           1600   \n",
       "195                                           1600   \n",
       "\n",
       "     XFEL.UTIL/LASERHEATER.MOTOR/DL.LHLVL5/FPOS  \\\n",
       "0                                    352.999786   \n",
       "1                                    352.999786   \n",
       "2                                    352.999786   \n",
       "3                                    352.999786   \n",
       "4                                    352.999786   \n",
       "..                                          ...   \n",
       "191                                  352.999786   \n",
       "192                                  352.999786   \n",
       "193                                  352.999786   \n",
       "194                                  352.999786   \n",
       "195                                  352.999786   \n",
       "\n",
       "     XFEL.UTIL/LASERINT/GUN/SH3_OPEN  XFEL.UTIL/LASERINT/GUN/SH4_OPEN  \\\n",
       "0                                  1                                0   \n",
       "1                                  1                                0   \n",
       "2                                  1                                0   \n",
       "3                                  1                                0   \n",
       "4                                  1                                0   \n",
       "..                               ...                              ...   \n",
       "191                                1                                0   \n",
       "192                                1                                0   \n",
       "193                                1                                0   \n",
       "194                                1                                0   \n",
       "195                                1                                0   \n",
       "\n",
       "     XFEL.DIAG/BEAM_ENERGY_MEASUREMENT/B1/ENERGY.ALL  \\\n",
       "0                                         700.342346   \n",
       "1                                                NaN   \n",
       "2                                                NaN   \n",
       "3                                                NaN   \n",
       "4                                                NaN   \n",
       "..                                               ...   \n",
       "191                                       702.247192   \n",
       "192                                       702.138977   \n",
       "193                                       702.027344   \n",
       "194                                       702.272522   \n",
       "195                                       702.079956   \n",
       "\n",
       "     XFEL.DIAG/BEAM_ENERGY_MEASUREMENT/B2/ENERGY.ALL  \\\n",
       "0                                        2399.127197   \n",
       "1                                                NaN   \n",
       "2                                                NaN   \n",
       "3                                                NaN   \n",
       "4                                                NaN   \n",
       "..                                               ...   \n",
       "191                                      2397.887451   \n",
       "192                                      2398.415527   \n",
       "193                                      2398.731934   \n",
       "194                                      2397.395508   \n",
       "195                                      2398.843994   \n",
       "\n",
       "     XFEL.DIAG/BEAM_ENERGY_MEASUREMENT/CL/ENERGY.ALL  \\\n",
       "0                                                NaN   \n",
       "1                                                NaN   \n",
       "2                                                NaN   \n",
       "3                                                NaN   \n",
       "4                                                NaN   \n",
       "..                                               ...   \n",
       "191                                              NaN   \n",
       "192                                              NaN   \n",
       "193                                              NaN   \n",
       "194                                              NaN   \n",
       "195                                              NaN   \n",
       "\n",
       "     XFEL.RF/LLRF.CONTROLLER/CTRL.LLTDSB2/SP.PHASE  \\\n",
       "0                                        59.799999   \n",
       "1                                        59.799999   \n",
       "2                                        59.799999   \n",
       "3                                        59.799999   \n",
       "4                                        59.799999   \n",
       "..                                             ...   \n",
       "191                                      59.799999   \n",
       "192                                      59.799999   \n",
       "193                                      59.799999   \n",
       "194                                      59.799999   \n",
       "195                                      59.799999   \n",
       "\n",
       "           XFEL.DIAG/CAMERA/OTRA.473.B2D/IMAGE_EXT_ZMQ  \n",
       "0    ./tds_images/OTRA.473.B2D-20210221_004351_309.png  \n",
       "1    ./tds_images/OTRA.473.B2D-20210221_004355_801.png  \n",
       "2    ./tds_images/OTRA.473.B2D-20210221_004358_985.png  \n",
       "3    ./tds_images/OTRA.473.B2D-20210221_004402_180.png  \n",
       "4    ./tds_images/OTRA.473.B2D-20210221_004405_357.png  \n",
       "..                                                 ...  \n",
       "191  ./tds_images/OTRA.473.B2D-20210221_005443_287.png  \n",
       "192  ./tds_images/OTRA.473.B2D-20210221_005446_617.png  \n",
       "193  ./tds_images/OTRA.473.B2D-20210221_005449_967.png  \n",
       "194  ./tds_images/OTRA.473.B2D-20210221_005453_277.png  \n",
       "195  ./tds_images/OTRA.473.B2D-20210221_005456_672.png  \n",
       "\n",
       "[196 rows x 369 columns]"
      ],
      "text/html": "<div>\n<style scoped>\n    .dataframe tbody tr th:only-of-type {\n        vertical-align: middle;\n    }\n\n    .dataframe tbody tr th {\n        vertical-align: top;\n    }\n\n    .dataframe thead th {\n        text-align: right;\n    }\n</style>\n<table border=\"1\" class=\"dataframe\">\n  <thead>\n    <tr style=\"text-align: right;\">\n      <th></th>\n      <th>index</th>\n      <th>timestamp</th>\n      <th>BPMA.469.B2D.X</th>\n      <th>BPMA.471.B2D.X</th>\n      <th>BPMA.477.B2D.X</th>\n      <th>BPMD.479.B2D.X</th>\n      <th>BPMA.469.B2D.Y</th>\n      <th>BPMA.471.B2D.Y</th>\n      <th>BPMA.477.B2D.Y</th>\n      <th>BPMD.479.B2D.Y</th>\n      <th>...</th>\n      <th>XFEL.UTIL/LASERHEATER.MOTOR/P1Z.LHOS0/FPOS</th>\n      <th>XFEL.UTIL/LASERHEATER.MOTOR/LAMBDA2.LHOS0/POS</th>\n      <th>XFEL.UTIL/LASERHEATER.MOTOR/DL.LHLVL5/FPOS</th>\n      <th>XFEL.UTIL/LASERINT/GUN/SH3_OPEN</th>\n      <th>XFEL.UTIL/LASERINT/GUN/SH4_OPEN</th>\n      <th>XFEL.DIAG/BEAM_ENERGY_MEASUREMENT/B1/ENERGY.ALL</th>\n      <th>XFEL.DIAG/BEAM_ENERGY_MEASUREMENT/B2/ENERGY.ALL</th>\n      <th>XFEL.DIAG/BEAM_ENERGY_MEASUREMENT/CL/ENERGY.ALL</th>\n      <th>XFEL.RF/LLRF.CONTROLLER/CTRL.LLTDSB2/SP.PHASE</th>\n      <th>XFEL.DIAG/CAMERA/OTRA.473.B2D/IMAGE_EXT_ZMQ</th>\n    </tr>\n  </thead>\n  <tbody>\n    <tr>\n      <th>0</th>\n      <td>0</td>\n      <td>1.613868e+09</td>\n      <td>-0.589831</td>\n      <td>-0.471220</td>\n      <td>-9.741132</td>\n      <td>-9.526670</td>\n      <td>-0.244605</td>\n      <td>2.093896</td>\n      <td>-2.783150</td>\n      <td>-7.117940</td>\n      <td>...</td>\n      <td>0.279977</td>\n      <td>1600</td>\n      <td>352.999786</td>\n      <td>1</td>\n      <td>0</td>\n      <td>700.342346</td>\n      <td>2399.127197</td>\n      <td>NaN</td>\n      <td>59.799999</td>\n      <td>./tds_images/OTRA.473.B2D-20210221_004351_309.png</td>\n    </tr>\n    <tr>\n      <th>1</th>\n      <td>0</td>\n      <td>1.613868e+09</td>\n      <td>NaN</td>\n      <td>NaN</td>\n      <td>NaN</td>\n      <td>NaN</td>\n      <td>NaN</td>\n      <td>NaN</td>\n      <td>NaN</td>\n      <td>NaN</td>\n      <td>...</td>\n      <td>0.279977</td>\n      <td>1600</td>\n      <td>352.999786</td>\n      <td>1</td>\n      <td>0</td>\n      <td>NaN</td>\n      <td>NaN</td>\n      <td>NaN</td>\n      <td>59.799999</td>\n      <td>./tds_images/OTRA.473.B2D-20210221_004355_801.png</td>\n    </tr>\n    <tr>\n      <th>2</th>\n      <td>0</td>\n      <td>1.613868e+09</td>\n      <td>NaN</td>\n      <td>NaN</td>\n      <td>NaN</td>\n      <td>NaN</td>\n      <td>NaN</td>\n      <td>NaN</td>\n      <td>NaN</td>\n      <td>NaN</td>\n      <td>...</td>\n      <td>0.279977</td>\n      <td>1600</td>\n      <td>352.999786</td>\n      <td>1</td>\n      <td>0</td>\n      <td>NaN</td>\n      <td>NaN</td>\n      <td>NaN</td>\n      <td>59.799999</td>\n      <td>./tds_images/OTRA.473.B2D-20210221_004358_985.png</td>\n    </tr>\n    <tr>\n      <th>3</th>\n      <td>0</td>\n      <td>1.613868e+09</td>\n      <td>NaN</td>\n      <td>NaN</td>\n      <td>NaN</td>\n      <td>NaN</td>\n      <td>NaN</td>\n      <td>NaN</td>\n      <td>NaN</td>\n      <td>NaN</td>\n      <td>...</td>\n      <td>0.279977</td>\n      <td>1600</td>\n      <td>352.999786</td>\n      <td>1</td>\n      <td>0</td>\n      <td>NaN</td>\n      <td>NaN</td>\n      <td>NaN</td>\n      <td>59.799999</td>\n      <td>./tds_images/OTRA.473.B2D-20210221_004402_180.png</td>\n    </tr>\n    <tr>\n      <th>4</th>\n      <td>0</td>\n      <td>1.613868e+09</td>\n      <td>NaN</td>\n      <td>NaN</td>\n      <td>NaN</td>\n      <td>NaN</td>\n      <td>NaN</td>\n      <td>NaN</td>\n      <td>NaN</td>\n      <td>NaN</td>\n      <td>...</td>\n      <td>0.279977</td>\n      <td>1600</td>\n      <td>352.999786</td>\n      <td>1</td>\n      <td>0</td>\n      <td>NaN</td>\n      <td>NaN</td>\n      <td>NaN</td>\n      <td>59.799999</td>\n      <td>./tds_images/OTRA.473.B2D-20210221_004405_357.png</td>\n    </tr>\n    <tr>\n      <th>...</th>\n      <td>...</td>\n      <td>...</td>\n      <td>...</td>\n      <td>...</td>\n      <td>...</td>\n      <td>...</td>\n      <td>...</td>\n      <td>...</td>\n      <td>...</td>\n      <td>...</td>\n      <td>...</td>\n      <td>...</td>\n      <td>...</td>\n      <td>...</td>\n      <td>...</td>\n      <td>...</td>\n      <td>...</td>\n      <td>...</td>\n      <td>...</td>\n      <td>...</td>\n      <td>...</td>\n    </tr>\n    <tr>\n      <th>191</th>\n      <td>0</td>\n      <td>1.613869e+09</td>\n      <td>-1.316300</td>\n      <td>-0.770797</td>\n      <td>-5.907073</td>\n      <td>-2.471321</td>\n      <td>-0.166762</td>\n      <td>2.119604</td>\n      <td>-3.778158</td>\n      <td>-7.493450</td>\n      <td>...</td>\n      <td>0.279977</td>\n      <td>1600</td>\n      <td>352.999786</td>\n      <td>1</td>\n      <td>0</td>\n      <td>702.247192</td>\n      <td>2397.887451</td>\n      <td>NaN</td>\n      <td>59.799999</td>\n      <td>./tds_images/OTRA.473.B2D-20210221_005443_287.png</td>\n    </tr>\n    <tr>\n      <th>192</th>\n      <td>0</td>\n      <td>1.613869e+09</td>\n      <td>-0.914917</td>\n      <td>-0.584775</td>\n      <td>-7.026993</td>\n      <td>-5.000465</td>\n      <td>-0.212766</td>\n      <td>2.066451</td>\n      <td>-3.217293</td>\n      <td>-6.750689</td>\n      <td>...</td>\n      <td>0.279977</td>\n      <td>1600</td>\n      <td>352.999786</td>\n      <td>1</td>\n      <td>0</td>\n      <td>702.138977</td>\n      <td>2398.415527</td>\n      <td>NaN</td>\n      <td>59.799999</td>\n      <td>./tds_images/OTRA.473.B2D-20210221_005446_617.png</td>\n    </tr>\n    <tr>\n      <th>193</th>\n      <td>0</td>\n      <td>1.613869e+09</td>\n      <td>-1.374585</td>\n      <td>-0.794467</td>\n      <td>-5.790493</td>\n      <td>-2.296219</td>\n      <td>-0.239866</td>\n      <td>2.037420</td>\n      <td>-3.697212</td>\n      <td>-7.249082</td>\n      <td>...</td>\n      <td>0.279977</td>\n      <td>1600</td>\n      <td>352.999786</td>\n      <td>1</td>\n      <td>0</td>\n      <td>702.027344</td>\n      <td>2398.731934</td>\n      <td>NaN</td>\n      <td>59.799999</td>\n      <td>./tds_images/OTRA.473.B2D-20210221_005449_967.png</td>\n    </tr>\n    <tr>\n      <th>194</th>\n      <td>0</td>\n      <td>1.613869e+09</td>\n      <td>-1.349098</td>\n      <td>-0.795484</td>\n      <td>-5.829101</td>\n      <td>-2.336125</td>\n      <td>-0.176721</td>\n      <td>2.114249</td>\n      <td>-3.808399</td>\n      <td>-7.521989</td>\n      <td>...</td>\n      <td>0.279977</td>\n      <td>1600</td>\n      <td>352.999786</td>\n      <td>1</td>\n      <td>0</td>\n      <td>702.272522</td>\n      <td>2397.395508</td>\n      <td>NaN</td>\n      <td>59.799999</td>\n      <td>./tds_images/OTRA.473.B2D-20210221_005453_277.png</td>\n    </tr>\n    <tr>\n      <th>195</th>\n      <td>0</td>\n      <td>1.613869e+09</td>\n      <td>-1.372998</td>\n      <td>-0.797720</td>\n      <td>-5.739698</td>\n      <td>-2.178849</td>\n      <td>-0.246581</td>\n      <td>2.027040</td>\n      <td>-3.672352</td>\n      <td>-7.153725</td>\n      <td>...</td>\n      <td>0.279977</td>\n      <td>1600</td>\n      <td>352.999786</td>\n      <td>1</td>\n      <td>0</td>\n      <td>702.079956</td>\n      <td>2398.843994</td>\n      <td>NaN</td>\n      <td>59.799999</td>\n      <td>./tds_images/OTRA.473.B2D-20210221_005456_672.png</td>\n    </tr>\n  </tbody>\n</table>\n<p>196 rows × 369 columns</p>\n</div>"
     },
     "metadata": {},
     "execution_count": 2
    }
   ],
   "source": [
    "db = SnapshotDB(\"20210221-01_43_50_scan_phase2.pcl\")\n",
    "df = db.load()\n",
    "df"
   ]
  },
  {
   "cell_type": "code",
   "execution_count": 3,
   "metadata": {},
   "outputs": [
    {
     "output_type": "execute_result",
     "data": {
      "text/plain": [
       "0     2021-02-21 00:43:50.284730196\n",
       "1     2021-02-21 00:43:55.311881065\n",
       "2     2021-02-21 00:43:58.582304001\n",
       "3     2021-02-21 00:44:01.893963099\n",
       "4     2021-02-21 00:44:05.052917004\n",
       "                   ...             \n",
       "191   2021-02-21 00:54:43.028972149\n",
       "192   2021-02-21 00:54:46.380817890\n",
       "193   2021-02-21 00:54:49.649235010\n",
       "194   2021-02-21 00:54:53.037122011\n",
       "195   2021-02-21 00:54:56.322474957\n",
       "Name: timestamp, Length: 196, dtype: datetime64[ns]"
      ]
     },
     "metadata": {},
     "execution_count": 3
    }
   ],
   "source": [
    "# Timestamps\n",
    "time = pd.to_datetime(df[\"timestamp\"], unit=\"s\")\n",
    "time"
   ]
  },
  {
   "cell_type": "code",
   "execution_count": 4,
   "metadata": {},
   "outputs": [
    {
     "output_type": "execute_result",
     "data": {
      "text/plain": [
       "0      [[21, 0, 0, 0, 38, 0, 0, 10, 0, 0, 3, 0, 11, 0...\n",
       "1      [[9, 0, 5, 0, 0, 11, 0, 0, 14, 6, 12, 14, 0, 0...\n",
       "2      [[0, 0, 12, 0, 15, 0, 10, 2, 14, 0, 10, 0, 0, ...\n",
       "3      [[0, 0, 1, 13, 0, 0, 0, 0, 21, 0, 0, 0, 0, 0, ...\n",
       "4      [[0, 4, 0, 25, 0, 5, 0, 13, 0, 0, 22, 0, 0, 0,...\n",
       "                             ...                        \n",
       "191    [[0, 0, 0, 0, 7, 0, 0, 15, 1, 0, 24, 0, 3, 0, ...\n",
       "192    [[0, 10, 13, 3, 0, 0, 11, 0, 0, 0, 13, 0, 20, ...\n",
       "193    [[13, 1, 0, 0, 17, 0, 0, 0, 0, 0, 0, 21, 0, 20...\n",
       "194    [[0, 0, 0, 0, 0, 0, 0, 0, 13, 11, 4, 4, 0, 0, ...\n",
       "195    [[0, 0, 0, 3, 13, 0, 0, 4, 1, 0, 25, 0, 15, 0,...\n",
       "Name: XFEL.DIAG/CAMERA/OTRA.473.B2D/IMAGE_EXT_ZMQ, Length: 196, dtype: object"
      ]
     },
     "metadata": {},
     "execution_count": 4
    }
   ],
   "source": [
    "# TDS images\n",
    "tds_image = df[\"XFEL.DIAG/CAMERA/OTRA.473.B2D/IMAGE_EXT_ZMQ\"].apply(lambda path: pickle.load(open(path[2:-4]+\".pcl\", \"rb\")))\n",
    "tds_image"
   ]
  },
  {
   "cell_type": "code",
   "execution_count": 5,
   "metadata": {},
   "outputs": [
    {
     "output_type": "execute_result",
     "data": {
      "text/plain": [
       "0       True\n",
       "1      False\n",
       "2      False\n",
       "3      False\n",
       "4      False\n",
       "       ...  \n",
       "191     True\n",
       "192     True\n",
       "193     True\n",
       "194     True\n",
       "195     True\n",
       "Name: XFEL.UTIL/BUNCH_PATTERN/CONTROL/BEAM_ALLOWED, Length: 196, dtype: bool"
      ]
     },
     "metadata": {},
     "execution_count": 5
    }
   ],
   "source": [
    "# Beam on\n",
    "is_beam_on = df[\"XFEL.UTIL/BUNCH_PATTERN/CONTROL/BEAM_ALLOWED\"].astype(\"bool\")\n",
    "is_beam_on"
   ]
  },
  {
   "cell_type": "code",
   "execution_count": 6,
   "metadata": {},
   "outputs": [
    {
     "output_type": "execute_result",
     "data": {
      "text/plain": [
       "0     -7.0\n",
       "1     -7.0\n",
       "2     -7.0\n",
       "3     -7.0\n",
       "4     -7.0\n",
       "      ... \n",
       "191    5.0\n",
       "192    5.0\n",
       "193    5.0\n",
       "194    5.0\n",
       "195    5.0\n",
       "Name: XFEL.RF/LLRF.SUMVOLTAGE_CTRL/L1/SUMVOLTAGE.CHIRP.SP.1, Length: 196, dtype: float64"
      ]
     },
     "metadata": {},
     "execution_count": 6
    }
   ],
   "source": [
    "# L1 chrip phase\n",
    "l1_chrip_phase = df[\"XFEL.RF/LLRF.SUMVOLTAGE_CTRL/L1/SUMVOLTAGE.CHIRP.SP.1\"]\n",
    "l1_chrip_phase"
   ]
  },
  {
   "cell_type": "code",
   "execution_count": 7,
   "metadata": {},
   "outputs": [
    {
     "output_type": "execute_result",
     "data": {
      "text/plain": [
       "                             time  \\\n",
       "0   2021-02-21 00:43:50.284730196   \n",
       "1   2021-02-21 00:43:55.311881065   \n",
       "2   2021-02-21 00:43:58.582304001   \n",
       "3   2021-02-21 00:44:01.893963099   \n",
       "4   2021-02-21 00:44:05.052917004   \n",
       "..                            ...   \n",
       "191 2021-02-21 00:54:43.028972149   \n",
       "192 2021-02-21 00:54:46.380817890   \n",
       "193 2021-02-21 00:54:49.649235010   \n",
       "194 2021-02-21 00:54:53.037122011   \n",
       "195 2021-02-21 00:54:56.322474957   \n",
       "\n",
       "                                             tds_image  is_beam_on  \\\n",
       "0    [[21, 0, 0, 0, 38, 0, 0, 10, 0, 0, 3, 0, 11, 0...        True   \n",
       "1    [[9, 0, 5, 0, 0, 11, 0, 0, 14, 6, 12, 14, 0, 0...       False   \n",
       "2    [[0, 0, 12, 0, 15, 0, 10, 2, 14, 0, 10, 0, 0, ...       False   \n",
       "3    [[0, 0, 1, 13, 0, 0, 0, 0, 21, 0, 0, 0, 0, 0, ...       False   \n",
       "4    [[0, 4, 0, 25, 0, 5, 0, 13, 0, 0, 22, 0, 0, 0,...       False   \n",
       "..                                                 ...         ...   \n",
       "191  [[0, 0, 0, 0, 7, 0, 0, 15, 1, 0, 24, 0, 3, 0, ...        True   \n",
       "192  [[0, 10, 13, 3, 0, 0, 11, 0, 0, 0, 13, 0, 20, ...        True   \n",
       "193  [[13, 1, 0, 0, 17, 0, 0, 0, 0, 0, 0, 21, 0, 20...        True   \n",
       "194  [[0, 0, 0, 0, 0, 0, 0, 0, 13, 11, 4, 4, 0, 0, ...        True   \n",
       "195  [[0, 0, 0, 3, 13, 0, 0, 4, 1, 0, 25, 0, 15, 0,...        True   \n",
       "\n",
       "     l1_chrip_phase  \n",
       "0              -7.0  \n",
       "1              -7.0  \n",
       "2              -7.0  \n",
       "3              -7.0  \n",
       "4              -7.0  \n",
       "..              ...  \n",
       "191             5.0  \n",
       "192             5.0  \n",
       "193             5.0  \n",
       "194             5.0  \n",
       "195             5.0  \n",
       "\n",
       "[196 rows x 4 columns]"
      ],
      "text/html": "<div>\n<style scoped>\n    .dataframe tbody tr th:only-of-type {\n        vertical-align: middle;\n    }\n\n    .dataframe tbody tr th {\n        vertical-align: top;\n    }\n\n    .dataframe thead th {\n        text-align: right;\n    }\n</style>\n<table border=\"1\" class=\"dataframe\">\n  <thead>\n    <tr style=\"text-align: right;\">\n      <th></th>\n      <th>time</th>\n      <th>tds_image</th>\n      <th>is_beam_on</th>\n      <th>l1_chrip_phase</th>\n    </tr>\n  </thead>\n  <tbody>\n    <tr>\n      <th>0</th>\n      <td>2021-02-21 00:43:50.284730196</td>\n      <td>[[21, 0, 0, 0, 38, 0, 0, 10, 0, 0, 3, 0, 11, 0...</td>\n      <td>True</td>\n      <td>-7.0</td>\n    </tr>\n    <tr>\n      <th>1</th>\n      <td>2021-02-21 00:43:55.311881065</td>\n      <td>[[9, 0, 5, 0, 0, 11, 0, 0, 14, 6, 12, 14, 0, 0...</td>\n      <td>False</td>\n      <td>-7.0</td>\n    </tr>\n    <tr>\n      <th>2</th>\n      <td>2021-02-21 00:43:58.582304001</td>\n      <td>[[0, 0, 12, 0, 15, 0, 10, 2, 14, 0, 10, 0, 0, ...</td>\n      <td>False</td>\n      <td>-7.0</td>\n    </tr>\n    <tr>\n      <th>3</th>\n      <td>2021-02-21 00:44:01.893963099</td>\n      <td>[[0, 0, 1, 13, 0, 0, 0, 0, 21, 0, 0, 0, 0, 0, ...</td>\n      <td>False</td>\n      <td>-7.0</td>\n    </tr>\n    <tr>\n      <th>4</th>\n      <td>2021-02-21 00:44:05.052917004</td>\n      <td>[[0, 4, 0, 25, 0, 5, 0, 13, 0, 0, 22, 0, 0, 0,...</td>\n      <td>False</td>\n      <td>-7.0</td>\n    </tr>\n    <tr>\n      <th>...</th>\n      <td>...</td>\n      <td>...</td>\n      <td>...</td>\n      <td>...</td>\n    </tr>\n    <tr>\n      <th>191</th>\n      <td>2021-02-21 00:54:43.028972149</td>\n      <td>[[0, 0, 0, 0, 7, 0, 0, 15, 1, 0, 24, 0, 3, 0, ...</td>\n      <td>True</td>\n      <td>5.0</td>\n    </tr>\n    <tr>\n      <th>192</th>\n      <td>2021-02-21 00:54:46.380817890</td>\n      <td>[[0, 10, 13, 3, 0, 0, 11, 0, 0, 0, 13, 0, 20, ...</td>\n      <td>True</td>\n      <td>5.0</td>\n    </tr>\n    <tr>\n      <th>193</th>\n      <td>2021-02-21 00:54:49.649235010</td>\n      <td>[[13, 1, 0, 0, 17, 0, 0, 0, 0, 0, 0, 21, 0, 20...</td>\n      <td>True</td>\n      <td>5.0</td>\n    </tr>\n    <tr>\n      <th>194</th>\n      <td>2021-02-21 00:54:53.037122011</td>\n      <td>[[0, 0, 0, 0, 0, 0, 0, 0, 13, 11, 4, 4, 0, 0, ...</td>\n      <td>True</td>\n      <td>5.0</td>\n    </tr>\n    <tr>\n      <th>195</th>\n      <td>2021-02-21 00:54:56.322474957</td>\n      <td>[[0, 0, 0, 3, 13, 0, 0, 4, 1, 0, 25, 0, 15, 0,...</td>\n      <td>True</td>\n      <td>5.0</td>\n    </tr>\n  </tbody>\n</table>\n<p>196 rows × 4 columns</p>\n</div>"
     },
     "metadata": {},
     "execution_count": 7
    }
   ],
   "source": [
    "preprocessed = pd.DataFrame({\"time\": time, \"tds_image\": tds_image, \"is_beam_on\": is_beam_on, \"l1_chrip_phase\": l1_chrip_phase})\n",
    "preprocessed.to_pickle(\"preprocessed_phase_2.pkl\")\n",
    "preprocessed"
   ]
  },
  {
   "cell_type": "code",
   "execution_count": null,
   "metadata": {},
   "outputs": [],
   "source": []
  }
 ]
}
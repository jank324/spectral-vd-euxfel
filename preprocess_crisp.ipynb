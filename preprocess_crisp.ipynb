{
 "metadata": {
  "language_info": {
   "codemirror_mode": {
    "name": "ipython",
    "version": 3
   },
   "file_extension": ".py",
   "mimetype": "text/x-python",
   "name": "python",
   "nbconvert_exporter": "python",
   "pygments_lexer": "ipython3",
   "version": "3.8.7-final"
  },
  "orig_nbformat": 2,
  "kernelspec": {
   "name": "python3",
   "display_name": "Python 3.8.7 64-bit",
   "metadata": {
    "interpreter": {
     "hash": "aee8b7b246df8f9039afb4144a1f6fd8d2ca17a180786b69acc140d282b71a49"
    }
   }
  }
 },
 "nbformat": 4,
 "nbformat_minor": 2,
 "cells": [
  {
   "cell_type": "code",
   "execution_count": 1,
   "metadata": {},
   "outputs": [],
   "source": [
    "import pickle\n",
    "import pandas as pd\n",
    "from mint.snapshot import SnapshotDB"
   ]
  },
  {
   "cell_type": "code",
   "execution_count": 2,
   "metadata": {},
   "outputs": [],
   "source": [
    "# in_file = \"20210221-02_02_12_scan_CRISP_high.pcl\"\n",
    "# out_file = \"preprocessed_crisp_high.pkl\"\n",
    "\n",
    "in_file = \"20210221-02_11_54_scan_CRISP_low.pcl\"\n",
    "out_file = \"preprocessed_crisp_low.pkl\""
   ]
  },
  {
   "cell_type": "code",
   "execution_count": 3,
   "metadata": {},
   "outputs": [
    {
     "output_type": "execute_result",
     "data": {
      "text/plain": [
       "     index     timestamp  BPMA.469.B2D.X  BPMA.471.B2D.X  BPMA.477.B2D.X  \\\n",
       "0        0  1.613870e+09             NaN             NaN             NaN   \n",
       "1        0  1.613870e+09             NaN             NaN             NaN   \n",
       "2        0  1.613870e+09             NaN             NaN             NaN   \n",
       "3        0  1.613870e+09             NaN             NaN             NaN   \n",
       "4        0  1.613870e+09             NaN             NaN             NaN   \n",
       "..     ...           ...             ...             ...             ...   \n",
       "946      0  1.613870e+09             NaN             NaN             NaN   \n",
       "947      0  1.613870e+09             NaN             NaN             NaN   \n",
       "948      0  1.613870e+09             NaN             NaN             NaN   \n",
       "949      0  1.613870e+09             NaN             NaN             NaN   \n",
       "950      0  1.613870e+09             NaN             NaN             NaN   \n",
       "\n",
       "     BPMD.479.B2D.X  BPMA.469.B2D.Y  BPMA.471.B2D.Y  BPMA.477.B2D.Y  \\\n",
       "0               NaN             NaN             NaN             NaN   \n",
       "1               NaN             NaN             NaN             NaN   \n",
       "2               NaN             NaN             NaN             NaN   \n",
       "3               NaN             NaN             NaN             NaN   \n",
       "4               NaN             NaN             NaN             NaN   \n",
       "..              ...             ...             ...             ...   \n",
       "946             NaN             NaN             NaN             NaN   \n",
       "947             NaN             NaN             NaN             NaN   \n",
       "948             NaN             NaN             NaN             NaN   \n",
       "949             NaN             NaN             NaN             NaN   \n",
       "950             NaN             NaN             NaN             NaN   \n",
       "\n",
       "     BPMD.479.B2D.Y  ...  XFEL.UTIL/LASERHEATER.MOTOR/P1X.LHOS0/FPOS  \\\n",
       "0               NaN  ...                                    0.100014   \n",
       "1               NaN  ...                                    0.100014   \n",
       "2               NaN  ...                                    0.100014   \n",
       "3               NaN  ...                                    0.100014   \n",
       "4               NaN  ...                                    0.100014   \n",
       "..              ...  ...                                         ...   \n",
       "946             NaN  ...                                    0.100014   \n",
       "947             NaN  ...                                    0.100014   \n",
       "948             NaN  ...                                    0.100014   \n",
       "949             NaN  ...                                    0.100014   \n",
       "950             NaN  ...                                    0.100014   \n",
       "\n",
       "     XFEL.UTIL/LASERHEATER.MOTOR/P1Z.LHOS0/FPOS  \\\n",
       "0                                      0.279977   \n",
       "1                                      0.279977   \n",
       "2                                      0.279977   \n",
       "3                                      0.279977   \n",
       "4                                      0.279977   \n",
       "..                                          ...   \n",
       "946                                    0.279977   \n",
       "947                                    0.279977   \n",
       "948                                    0.279977   \n",
       "949                                    0.279977   \n",
       "950                                    0.279977   \n",
       "\n",
       "     XFEL.UTIL/LASERHEATER.MOTOR/LAMBDA2.LHOS0/POS  \\\n",
       "0                                             1600   \n",
       "1                                             1600   \n",
       "2                                             1600   \n",
       "3                                             1600   \n",
       "4                                             1600   \n",
       "..                                             ...   \n",
       "946                                           1600   \n",
       "947                                           1600   \n",
       "948                                           1600   \n",
       "949                                           1600   \n",
       "950                                           1600   \n",
       "\n",
       "     XFEL.UTIL/LASERHEATER.MOTOR/DL.LHLVL5/FPOS  \\\n",
       "0                                    352.999786   \n",
       "1                                    352.999786   \n",
       "2                                    352.999786   \n",
       "3                                    352.999786   \n",
       "4                                    352.999786   \n",
       "..                                          ...   \n",
       "946                                  352.999786   \n",
       "947                                  352.999786   \n",
       "948                                  352.999786   \n",
       "949                                  352.999786   \n",
       "950                                  352.999786   \n",
       "\n",
       "     XFEL.UTIL/LASERINT/GUN/SH3_OPEN  XFEL.UTIL/LASERINT/GUN/SH4_OPEN  \\\n",
       "0                                  1                                0   \n",
       "1                                  1                                0   \n",
       "2                                  1                                0   \n",
       "3                                  1                                0   \n",
       "4                                  1                                0   \n",
       "..                               ...                              ...   \n",
       "946                                1                                0   \n",
       "947                                1                                0   \n",
       "948                                1                                0   \n",
       "949                                1                                0   \n",
       "950                                1                                0   \n",
       "\n",
       "     XFEL.DIAG/BEAM_ENERGY_MEASUREMENT/B1/ENERGY.ALL  \\\n",
       "0                                         700.390137   \n",
       "1                                         699.428284   \n",
       "2                                         699.488953   \n",
       "3                                         699.346252   \n",
       "4                                         699.539856   \n",
       "..                                               ...   \n",
       "946                                       702.215820   \n",
       "947                                       702.206848   \n",
       "948                                       702.185486   \n",
       "949                                       702.201233   \n",
       "950                                       702.199463   \n",
       "\n",
       "     XFEL.DIAG/BEAM_ENERGY_MEASUREMENT/B2/ENERGY.ALL  \\\n",
       "0                                        2399.367432   \n",
       "1                                        2404.523682   \n",
       "2                                        2404.680176   \n",
       "3                                        2404.601807   \n",
       "4                                        2405.041992   \n",
       "..                                               ...   \n",
       "946                                      2398.056152   \n",
       "947                                      2398.554199   \n",
       "948                                      2398.648438   \n",
       "949                                      2398.441162   \n",
       "950                                      2398.421631   \n",
       "\n",
       "     XFEL.DIAG/BEAM_ENERGY_MEASUREMENT/CL/ENERGY.ALL  \\\n",
       "0                                       14007.552734   \n",
       "1                                       14017.751953   \n",
       "2                                       14017.279297   \n",
       "3                                       14019.316406   \n",
       "4                                       14018.678711   \n",
       "..                                               ...   \n",
       "946                                     14011.018555   \n",
       "947                                     14010.599609   \n",
       "948                                     14011.053711   \n",
       "949                                     14010.914062   \n",
       "950                                     14009.355469   \n",
       "\n",
       "     XFEL.RF/LLRF.CONTROLLER/CTRL.LLTDSB2/SP.PHASE  \n",
       "0                                        59.799999  \n",
       "1                                        59.799999  \n",
       "2                                        59.799999  \n",
       "3                                        59.799999  \n",
       "4                                        59.799999  \n",
       "..                                             ...  \n",
       "946                                      59.799999  \n",
       "947                                      59.799999  \n",
       "948                                      59.799999  \n",
       "949                                      59.799999  \n",
       "950                                      59.799999  \n",
       "\n",
       "[951 rows x 368 columns]"
      ],
      "text/html": "<div>\n<style scoped>\n    .dataframe tbody tr th:only-of-type {\n        vertical-align: middle;\n    }\n\n    .dataframe tbody tr th {\n        vertical-align: top;\n    }\n\n    .dataframe thead th {\n        text-align: right;\n    }\n</style>\n<table border=\"1\" class=\"dataframe\">\n  <thead>\n    <tr style=\"text-align: right;\">\n      <th></th>\n      <th>index</th>\n      <th>timestamp</th>\n      <th>BPMA.469.B2D.X</th>\n      <th>BPMA.471.B2D.X</th>\n      <th>BPMA.477.B2D.X</th>\n      <th>BPMD.479.B2D.X</th>\n      <th>BPMA.469.B2D.Y</th>\n      <th>BPMA.471.B2D.Y</th>\n      <th>BPMA.477.B2D.Y</th>\n      <th>BPMD.479.B2D.Y</th>\n      <th>...</th>\n      <th>XFEL.UTIL/LASERHEATER.MOTOR/P1X.LHOS0/FPOS</th>\n      <th>XFEL.UTIL/LASERHEATER.MOTOR/P1Z.LHOS0/FPOS</th>\n      <th>XFEL.UTIL/LASERHEATER.MOTOR/LAMBDA2.LHOS0/POS</th>\n      <th>XFEL.UTIL/LASERHEATER.MOTOR/DL.LHLVL5/FPOS</th>\n      <th>XFEL.UTIL/LASERINT/GUN/SH3_OPEN</th>\n      <th>XFEL.UTIL/LASERINT/GUN/SH4_OPEN</th>\n      <th>XFEL.DIAG/BEAM_ENERGY_MEASUREMENT/B1/ENERGY.ALL</th>\n      <th>XFEL.DIAG/BEAM_ENERGY_MEASUREMENT/B2/ENERGY.ALL</th>\n      <th>XFEL.DIAG/BEAM_ENERGY_MEASUREMENT/CL/ENERGY.ALL</th>\n      <th>XFEL.RF/LLRF.CONTROLLER/CTRL.LLTDSB2/SP.PHASE</th>\n    </tr>\n  </thead>\n  <tbody>\n    <tr>\n      <th>0</th>\n      <td>0</td>\n      <td>1.613870e+09</td>\n      <td>NaN</td>\n      <td>NaN</td>\n      <td>NaN</td>\n      <td>NaN</td>\n      <td>NaN</td>\n      <td>NaN</td>\n      <td>NaN</td>\n      <td>NaN</td>\n      <td>...</td>\n      <td>0.100014</td>\n      <td>0.279977</td>\n      <td>1600</td>\n      <td>352.999786</td>\n      <td>1</td>\n      <td>0</td>\n      <td>700.390137</td>\n      <td>2399.367432</td>\n      <td>14007.552734</td>\n      <td>59.799999</td>\n    </tr>\n    <tr>\n      <th>1</th>\n      <td>0</td>\n      <td>1.613870e+09</td>\n      <td>NaN</td>\n      <td>NaN</td>\n      <td>NaN</td>\n      <td>NaN</td>\n      <td>NaN</td>\n      <td>NaN</td>\n      <td>NaN</td>\n      <td>NaN</td>\n      <td>...</td>\n      <td>0.100014</td>\n      <td>0.279977</td>\n      <td>1600</td>\n      <td>352.999786</td>\n      <td>1</td>\n      <td>0</td>\n      <td>699.428284</td>\n      <td>2404.523682</td>\n      <td>14017.751953</td>\n      <td>59.799999</td>\n    </tr>\n    <tr>\n      <th>2</th>\n      <td>0</td>\n      <td>1.613870e+09</td>\n      <td>NaN</td>\n      <td>NaN</td>\n      <td>NaN</td>\n      <td>NaN</td>\n      <td>NaN</td>\n      <td>NaN</td>\n      <td>NaN</td>\n      <td>NaN</td>\n      <td>...</td>\n      <td>0.100014</td>\n      <td>0.279977</td>\n      <td>1600</td>\n      <td>352.999786</td>\n      <td>1</td>\n      <td>0</td>\n      <td>699.488953</td>\n      <td>2404.680176</td>\n      <td>14017.279297</td>\n      <td>59.799999</td>\n    </tr>\n    <tr>\n      <th>3</th>\n      <td>0</td>\n      <td>1.613870e+09</td>\n      <td>NaN</td>\n      <td>NaN</td>\n      <td>NaN</td>\n      <td>NaN</td>\n      <td>NaN</td>\n      <td>NaN</td>\n      <td>NaN</td>\n      <td>NaN</td>\n      <td>...</td>\n      <td>0.100014</td>\n      <td>0.279977</td>\n      <td>1600</td>\n      <td>352.999786</td>\n      <td>1</td>\n      <td>0</td>\n      <td>699.346252</td>\n      <td>2404.601807</td>\n      <td>14019.316406</td>\n      <td>59.799999</td>\n    </tr>\n    <tr>\n      <th>4</th>\n      <td>0</td>\n      <td>1.613870e+09</td>\n      <td>NaN</td>\n      <td>NaN</td>\n      <td>NaN</td>\n      <td>NaN</td>\n      <td>NaN</td>\n      <td>NaN</td>\n      <td>NaN</td>\n      <td>NaN</td>\n      <td>...</td>\n      <td>0.100014</td>\n      <td>0.279977</td>\n      <td>1600</td>\n      <td>352.999786</td>\n      <td>1</td>\n      <td>0</td>\n      <td>699.539856</td>\n      <td>2405.041992</td>\n      <td>14018.678711</td>\n      <td>59.799999</td>\n    </tr>\n    <tr>\n      <th>...</th>\n      <td>...</td>\n      <td>...</td>\n      <td>...</td>\n      <td>...</td>\n      <td>...</td>\n      <td>...</td>\n      <td>...</td>\n      <td>...</td>\n      <td>...</td>\n      <td>...</td>\n      <td>...</td>\n      <td>...</td>\n      <td>...</td>\n      <td>...</td>\n      <td>...</td>\n      <td>...</td>\n      <td>...</td>\n      <td>...</td>\n      <td>...</td>\n      <td>...</td>\n      <td>...</td>\n    </tr>\n    <tr>\n      <th>946</th>\n      <td>0</td>\n      <td>1.613870e+09</td>\n      <td>NaN</td>\n      <td>NaN</td>\n      <td>NaN</td>\n      <td>NaN</td>\n      <td>NaN</td>\n      <td>NaN</td>\n      <td>NaN</td>\n      <td>NaN</td>\n      <td>...</td>\n      <td>0.100014</td>\n      <td>0.279977</td>\n      <td>1600</td>\n      <td>352.999786</td>\n      <td>1</td>\n      <td>0</td>\n      <td>702.215820</td>\n      <td>2398.056152</td>\n      <td>14011.018555</td>\n      <td>59.799999</td>\n    </tr>\n    <tr>\n      <th>947</th>\n      <td>0</td>\n      <td>1.613870e+09</td>\n      <td>NaN</td>\n      <td>NaN</td>\n      <td>NaN</td>\n      <td>NaN</td>\n      <td>NaN</td>\n      <td>NaN</td>\n      <td>NaN</td>\n      <td>NaN</td>\n      <td>...</td>\n      <td>0.100014</td>\n      <td>0.279977</td>\n      <td>1600</td>\n      <td>352.999786</td>\n      <td>1</td>\n      <td>0</td>\n      <td>702.206848</td>\n      <td>2398.554199</td>\n      <td>14010.599609</td>\n      <td>59.799999</td>\n    </tr>\n    <tr>\n      <th>948</th>\n      <td>0</td>\n      <td>1.613870e+09</td>\n      <td>NaN</td>\n      <td>NaN</td>\n      <td>NaN</td>\n      <td>NaN</td>\n      <td>NaN</td>\n      <td>NaN</td>\n      <td>NaN</td>\n      <td>NaN</td>\n      <td>...</td>\n      <td>0.100014</td>\n      <td>0.279977</td>\n      <td>1600</td>\n      <td>352.999786</td>\n      <td>1</td>\n      <td>0</td>\n      <td>702.185486</td>\n      <td>2398.648438</td>\n      <td>14011.053711</td>\n      <td>59.799999</td>\n    </tr>\n    <tr>\n      <th>949</th>\n      <td>0</td>\n      <td>1.613870e+09</td>\n      <td>NaN</td>\n      <td>NaN</td>\n      <td>NaN</td>\n      <td>NaN</td>\n      <td>NaN</td>\n      <td>NaN</td>\n      <td>NaN</td>\n      <td>NaN</td>\n      <td>...</td>\n      <td>0.100014</td>\n      <td>0.279977</td>\n      <td>1600</td>\n      <td>352.999786</td>\n      <td>1</td>\n      <td>0</td>\n      <td>702.201233</td>\n      <td>2398.441162</td>\n      <td>14010.914062</td>\n      <td>59.799999</td>\n    </tr>\n    <tr>\n      <th>950</th>\n      <td>0</td>\n      <td>1.613870e+09</td>\n      <td>NaN</td>\n      <td>NaN</td>\n      <td>NaN</td>\n      <td>NaN</td>\n      <td>NaN</td>\n      <td>NaN</td>\n      <td>NaN</td>\n      <td>NaN</td>\n      <td>...</td>\n      <td>0.100014</td>\n      <td>0.279977</td>\n      <td>1600</td>\n      <td>352.999786</td>\n      <td>1</td>\n      <td>0</td>\n      <td>702.199463</td>\n      <td>2398.421631</td>\n      <td>14009.355469</td>\n      <td>59.799999</td>\n    </tr>\n  </tbody>\n</table>\n<p>951 rows × 368 columns</p>\n</div>"
     },
     "metadata": {},
     "execution_count": 3
    }
   ],
   "source": [
    "db = SnapshotDB(in_file)\n",
    "df = db.load()\n",
    "df"
   ]
  },
  {
   "cell_type": "code",
   "execution_count": 10,
   "metadata": {},
   "outputs": [
    {
     "output_type": "stream",
     "name": "stdout",
     "text": [
      "XFEL.SDIAG/THZ_SPECTROMETER.FORMFACTOR/CRD.1934.TL/INTENSITY.TD\nXFEL.SDIAG/THZ_SPECTROMETER.FORMFACTOR/CRD.1934.TL/FORMFACTOR.XY\nXFEL.SDIAG/THZ_SPECTROMETER.FORMFACTOR/CRD.1934.TL/FORMFACTOR_DETECTLIMIT.XY\nXFEL.SDIAG/THZ_SPECTROMETER.FORMFACTOR/CRD.1934.TL/STAGE\n"
     ]
    }
   ],
   "source": [
    "for c in df.columns:\n",
    "    if c.startswith(\"XFEL.SDIAG/THZ_SPECTROMETER.FORMFACTOR/CRD.1934.TL/\"):\n",
    "        print(c)"
   ]
  },
  {
   "cell_type": "code",
   "execution_count": 4,
   "metadata": {},
   "outputs": [
    {
     "output_type": "execute_result",
     "data": {
      "text/plain": [
       "0     2021-02-21 01:11:54.228874922\n",
       "1     2021-02-21 01:11:58.708318949\n",
       "2     2021-02-21 01:11:59.155834198\n",
       "3     2021-02-21 01:11:59.551591873\n",
       "4     2021-02-21 01:12:00.002394915\n",
       "                   ...             \n",
       "946   2021-02-21 01:19:35.595877171\n",
       "947   2021-02-21 01:19:36.016417979\n",
       "948   2021-02-21 01:19:36.525036097\n",
       "949   2021-02-21 01:19:36.990997076\n",
       "950   2021-02-21 01:19:37.414779902\n",
       "Name: timestamp, Length: 951, dtype: datetime64[ns]"
      ]
     },
     "metadata": {},
     "execution_count": 4
    }
   ],
   "source": [
    "# Timestamps\n",
    "time = pd.to_datetime(df[\"timestamp\"], unit=\"s\")\n",
    "time"
   ]
  },
  {
   "cell_type": "code",
   "execution_count": 5,
   "metadata": {},
   "outputs": [
    {
     "output_type": "execute_result",
     "data": {
      "text/plain": [
       "0      True\n",
       "1      True\n",
       "2      True\n",
       "3      True\n",
       "4      True\n",
       "       ... \n",
       "946    True\n",
       "947    True\n",
       "948    True\n",
       "949    True\n",
       "950    True\n",
       "Name: XFEL.UTIL/BUNCH_PATTERN/CONTROL/BEAM_ALLOWED, Length: 951, dtype: bool"
      ]
     },
     "metadata": {},
     "execution_count": 5
    }
   ],
   "source": [
    "# Beam on\n",
    "is_beam_on = df[\"XFEL.UTIL/BUNCH_PATTERN/CONTROL/BEAM_ALLOWED\"].astype(\"bool\")\n",
    "is_beam_on"
   ]
  },
  {
   "cell_type": "code",
   "execution_count": 6,
   "metadata": {},
   "outputs": [
    {
     "output_type": "execute_result",
     "data": {
      "text/plain": [
       "0      -7.0\n",
       "1     -12.0\n",
       "2     -12.0\n",
       "3     -12.0\n",
       "4     -12.0\n",
       "       ... \n",
       "946     5.0\n",
       "947     5.0\n",
       "948     5.0\n",
       "949     5.0\n",
       "950     5.0\n",
       "Name: XFEL.RF/LLRF.SUMVOLTAGE_CTRL/L1/SUMVOLTAGE.CHIRP.SP.1, Length: 951, dtype: float64"
      ]
     },
     "metadata": {},
     "execution_count": 6
    }
   ],
   "source": [
    "# L1 chrip phase\n",
    "l1_chrip_phase = df[\"XFEL.RF/LLRF.SUMVOLTAGE_CTRL/L1/SUMVOLTAGE.CHIRP.SP.1\"]\n",
    "l1_chrip_phase"
   ]
  },
  {
   "cell_type": "code",
   "execution_count": 7,
   "metadata": {},
   "outputs": [
    {
     "output_type": "execute_result",
     "data": {
      "text/plain": [
       "0      0.253279\n",
       "1      0.164426\n",
       "2      0.175028\n",
       "3      0.175334\n",
       "4      0.174987\n",
       "         ...   \n",
       "946    0.250992\n",
       "947    0.252742\n",
       "948    0.247229\n",
       "949    0.242415\n",
       "950    0.245360\n",
       "Name: XFEL.DIAG/CHARGE.ML/BPMI.1930.TL/CHARGE.ALL, Length: 951, dtype: float64"
      ]
     },
     "metadata": {},
     "execution_count": 7
    }
   ],
   "source": [
    "# Charge of the first bunch\n",
    "bunch_charge = df[\"XFEL.DIAG/CHARGE.ML/BPMI.1930.TL/CHARGE.ALL\"]\n",
    "bunch_charge"
   ]
  },
  {
   "cell_type": "code",
   "execution_count": 8,
   "metadata": {},
   "outputs": [
    {
     "output_type": "execute_result",
     "data": {
      "text/plain": [
       "0      [[0.0, 0.0013999707], [1.0, 0.002523627], [2.0...\n",
       "1      [[0.0, 0.0024111096], [1.0, 0.0010225406], [2....\n",
       "2      [[0.0, -0.00034454287], [1.0, 3.8516522e-05], ...\n",
       "3      [[0.0, 0.0007114549], [1.0, -8.218471e-05], [2...\n",
       "4      [[0.0, 0.0006921916], [1.0, 0.0008636335], [2....\n",
       "                             ...                        \n",
       "946    [[0.0, -0.0005184702], [1.0, -0.00013105865], ...\n",
       "947    [[0.0, 0.00078865857], [1.0, 0.00089951797], [...\n",
       "948    [[0.0, -5.9637492e-05], [1.0, -8.475115e-05], ...\n",
       "949    [[0.0, -0.0015199165], [1.0, 0.0007720378], [2...\n",
       "950    [[0.0, 8.156214e-05], [1.0, 0.0005108232], [2....\n",
       "Name: XFEL.SDIAG/THZ_SPECTROMETER.FORMFACTOR/CRD.1934.TL/INTENSITY.TD, Length: 951, dtype: object"
      ]
     },
     "metadata": {},
     "execution_count": 8
    }
   ],
   "source": [
    "# All intensities at the first bunch\n",
    "bunch_intensity = df[\"XFEL.SDIAG/THZ_SPECTROMETER.FORMFACTOR/CRD.1934.TL/INTENSITY.TD\"]\n",
    "bunch_intensity"
   ]
  },
  {
   "cell_type": "code",
   "execution_count": 9,
   "metadata": {},
   "outputs": [
    {
     "output_type": "execute_result",
     "data": {
      "text/plain": [
       "0      [[0.684283, 1.4530452], [0.6863423, 3.7493443]...\n",
       "1      [[0.684283, 5.03848], [0.6863423, 3.058674], [...\n",
       "2      [[0.684283, -0.6827929], [0.6863423, 0.1092604...\n",
       "3      [[0.684283, 1.5086796], [0.6863423, -0.2494656...\n",
       "4      [[0.684283, 1.348622], [0.6863423, 2.408593], ...\n",
       "                             ...                        \n",
       "946    [[0.684283, -0.50114834], [0.6863423, -0.18133...\n",
       "947    [[0.684283, 0.76443475], [0.6863423, 1.248048]...\n",
       "948    [[0.684283, -0.056538783], [0.6863423, -0.1150...\n",
       "949    [[0.684283, -1.507832], [0.6863423, 1.0963312]...\n",
       "950    [[0.684283, 0.0784315], [0.6863423, 0.7031413]...\n",
       "Name: XFEL.SDIAG/THZ_SPECTROMETER.FORMFACTOR/CRD.1934.TL/FORMFACTOR.XY, Length: 951, dtype: object"
      ]
     },
     "metadata": {},
     "execution_count": 9
    }
   ],
   "source": [
    "# Formfactor at the first bunch\n",
    "bunch_formfactor = df[\"XFEL.SDIAG/THZ_SPECTROMETER.FORMFACTOR/CRD.1934.TL/FORMFACTOR.XY\"]\n",
    "bunch_formfactor"
   ]
  },
  {
   "cell_type": "code",
   "execution_count": 10,
   "metadata": {},
   "outputs": [
    {
     "output_type": "execute_result",
     "data": {
      "text/plain": [
       "0      [[0.684283, 1.0198625], [0.6863423, 1.3088695]...\n",
       "1      [[0.684283, 2.619609], [0.6863423, 2.2755194],...\n",
       "2      [[0.684283, 2.2036085], [0.6863423, 2.232566],...\n",
       "3      [[0.684283, 2.2036085], [0.6863423, 2.232566],...\n",
       "4      [[0.684283, 1.6582719], [0.6863423, 2.4520164]...\n",
       "                             ...                        \n",
       "946    [[0.684283, 0.57210094], [0.6863423, 1.2294236...\n",
       "947    [[0.684283, 1.7467835], [0.6863423, 2.493918],...\n",
       "948    [[0.684283, 1.7467835], [0.6863423, 2.493918],...\n",
       "949    [[0.684283, 1.2134799], [0.6863423, 1.3878863]...\n",
       "950    [[0.684283, 1.2134799], [0.6863423, 1.3878863]...\n",
       "Name: XFEL.SDIAG/THZ_SPECTROMETER.FORMFACTOR/CRD.1934.TL/FORMFACTOR_DETECTLIMIT.XY, Length: 951, dtype: object"
      ]
     },
     "metadata": {},
     "execution_count": 10
    }
   ],
   "source": [
    "# Detection limit\n",
    "detection_limit = df[\"XFEL.SDIAG/THZ_SPECTROMETER.FORMFACTOR/CRD.1934.TL/FORMFACTOR_DETECTLIMIT.XY\"]\n",
    "detection_limit"
   ]
  },
  {
   "cell_type": "code",
   "execution_count": 11,
   "metadata": {},
   "outputs": [
    {
     "output_type": "execute_result",
     "data": {
      "text/plain": [
       "0     NaN\n",
       "1     NaN\n",
       "2     NaN\n",
       "3     NaN\n",
       "4     NaN\n",
       "       ..\n",
       "946   NaN\n",
       "947   NaN\n",
       "948   NaN\n",
       "949   NaN\n",
       "950   NaN\n",
       "Name: XFEL.SDIAG/THZ_SPECTROMETER.FORMFACTOR/CRD.1934.TL/STAGE, Length: 951, dtype: float64"
      ]
     },
     "metadata": {},
     "execution_count": 11
    }
   ],
   "source": [
    "# Which grating set is used\n",
    "grating = df[\"XFEL.SDIAG/THZ_SPECTROMETER.FORMFACTOR/CRD.1934.TL/STAGE\"]\n",
    "grating"
   ]
  },
  {
   "cell_type": "code",
   "execution_count": 12,
   "metadata": {},
   "outputs": [
    {
     "output_type": "execute_result",
     "data": {
      "text/plain": [
       "                             time  is_beam_on  l1_chrip_phase  bunch_charge  \\\n",
       "0   2021-02-21 01:11:54.228874922        True            -7.0      0.253279   \n",
       "1   2021-02-21 01:11:58.708318949        True           -12.0      0.164426   \n",
       "2   2021-02-21 01:11:59.155834198        True           -12.0      0.175028   \n",
       "3   2021-02-21 01:11:59.551591873        True           -12.0      0.175334   \n",
       "4   2021-02-21 01:12:00.002394915        True           -12.0      0.174987   \n",
       "..                            ...         ...             ...           ...   \n",
       "946 2021-02-21 01:19:35.595877171        True             5.0      0.250992   \n",
       "947 2021-02-21 01:19:36.016417979        True             5.0      0.252742   \n",
       "948 2021-02-21 01:19:36.525036097        True             5.0      0.247229   \n",
       "949 2021-02-21 01:19:36.990997076        True             5.0      0.242415   \n",
       "950 2021-02-21 01:19:37.414779902        True             5.0      0.245360   \n",
       "\n",
       "                                       bunch_intensity  \\\n",
       "0    [[0.0, 0.0013999707], [1.0, 0.002523627], [2.0...   \n",
       "1    [[0.0, 0.0024111096], [1.0, 0.0010225406], [2....   \n",
       "2    [[0.0, -0.00034454287], [1.0, 3.8516522e-05], ...   \n",
       "3    [[0.0, 0.0007114549], [1.0, -8.218471e-05], [2...   \n",
       "4    [[0.0, 0.0006921916], [1.0, 0.0008636335], [2....   \n",
       "..                                                 ...   \n",
       "946  [[0.0, -0.0005184702], [1.0, -0.00013105865], ...   \n",
       "947  [[0.0, 0.00078865857], [1.0, 0.00089951797], [...   \n",
       "948  [[0.0, -5.9637492e-05], [1.0, -8.475115e-05], ...   \n",
       "949  [[0.0, -0.0015199165], [1.0, 0.0007720378], [2...   \n",
       "950  [[0.0, 8.156214e-05], [1.0, 0.0005108232], [2....   \n",
       "\n",
       "                                      bunch_formfactor  \\\n",
       "0    [[0.684283, 1.4530452], [0.6863423, 3.7493443]...   \n",
       "1    [[0.684283, 5.03848], [0.6863423, 3.058674], [...   \n",
       "2    [[0.684283, -0.6827929], [0.6863423, 0.1092604...   \n",
       "3    [[0.684283, 1.5086796], [0.6863423, -0.2494656...   \n",
       "4    [[0.684283, 1.348622], [0.6863423, 2.408593], ...   \n",
       "..                                                 ...   \n",
       "946  [[0.684283, -0.50114834], [0.6863423, -0.18133...   \n",
       "947  [[0.684283, 0.76443475], [0.6863423, 1.248048]...   \n",
       "948  [[0.684283, -0.056538783], [0.6863423, -0.1150...   \n",
       "949  [[0.684283, -1.507832], [0.6863423, 1.0963312]...   \n",
       "950  [[0.684283, 0.0784315], [0.6863423, 0.7031413]...   \n",
       "\n",
       "                                       detection_limit  grating  \n",
       "0    [[0.684283, 1.0198625], [0.6863423, 1.3088695]...      NaN  \n",
       "1    [[0.684283, 2.619609], [0.6863423, 2.2755194],...      NaN  \n",
       "2    [[0.684283, 2.2036085], [0.6863423, 2.232566],...      NaN  \n",
       "3    [[0.684283, 2.2036085], [0.6863423, 2.232566],...      NaN  \n",
       "4    [[0.684283, 1.6582719], [0.6863423, 2.4520164]...      NaN  \n",
       "..                                                 ...      ...  \n",
       "946  [[0.684283, 0.57210094], [0.6863423, 1.2294236...      NaN  \n",
       "947  [[0.684283, 1.7467835], [0.6863423, 2.493918],...      NaN  \n",
       "948  [[0.684283, 1.7467835], [0.6863423, 2.493918],...      NaN  \n",
       "949  [[0.684283, 1.2134799], [0.6863423, 1.3878863]...      NaN  \n",
       "950  [[0.684283, 1.2134799], [0.6863423, 1.3878863]...      NaN  \n",
       "\n",
       "[951 rows x 8 columns]"
      ],
      "text/html": "<div>\n<style scoped>\n    .dataframe tbody tr th:only-of-type {\n        vertical-align: middle;\n    }\n\n    .dataframe tbody tr th {\n        vertical-align: top;\n    }\n\n    .dataframe thead th {\n        text-align: right;\n    }\n</style>\n<table border=\"1\" class=\"dataframe\">\n  <thead>\n    <tr style=\"text-align: right;\">\n      <th></th>\n      <th>time</th>\n      <th>is_beam_on</th>\n      <th>l1_chrip_phase</th>\n      <th>bunch_charge</th>\n      <th>bunch_intensity</th>\n      <th>bunch_formfactor</th>\n      <th>detection_limit</th>\n      <th>grating</th>\n    </tr>\n  </thead>\n  <tbody>\n    <tr>\n      <th>0</th>\n      <td>2021-02-21 01:11:54.228874922</td>\n      <td>True</td>\n      <td>-7.0</td>\n      <td>0.253279</td>\n      <td>[[0.0, 0.0013999707], [1.0, 0.002523627], [2.0...</td>\n      <td>[[0.684283, 1.4530452], [0.6863423, 3.7493443]...</td>\n      <td>[[0.684283, 1.0198625], [0.6863423, 1.3088695]...</td>\n      <td>NaN</td>\n    </tr>\n    <tr>\n      <th>1</th>\n      <td>2021-02-21 01:11:58.708318949</td>\n      <td>True</td>\n      <td>-12.0</td>\n      <td>0.164426</td>\n      <td>[[0.0, 0.0024111096], [1.0, 0.0010225406], [2....</td>\n      <td>[[0.684283, 5.03848], [0.6863423, 3.058674], [...</td>\n      <td>[[0.684283, 2.619609], [0.6863423, 2.2755194],...</td>\n      <td>NaN</td>\n    </tr>\n    <tr>\n      <th>2</th>\n      <td>2021-02-21 01:11:59.155834198</td>\n      <td>True</td>\n      <td>-12.0</td>\n      <td>0.175028</td>\n      <td>[[0.0, -0.00034454287], [1.0, 3.8516522e-05], ...</td>\n      <td>[[0.684283, -0.6827929], [0.6863423, 0.1092604...</td>\n      <td>[[0.684283, 2.2036085], [0.6863423, 2.232566],...</td>\n      <td>NaN</td>\n    </tr>\n    <tr>\n      <th>3</th>\n      <td>2021-02-21 01:11:59.551591873</td>\n      <td>True</td>\n      <td>-12.0</td>\n      <td>0.175334</td>\n      <td>[[0.0, 0.0007114549], [1.0, -8.218471e-05], [2...</td>\n      <td>[[0.684283, 1.5086796], [0.6863423, -0.2494656...</td>\n      <td>[[0.684283, 2.2036085], [0.6863423, 2.232566],...</td>\n      <td>NaN</td>\n    </tr>\n    <tr>\n      <th>4</th>\n      <td>2021-02-21 01:12:00.002394915</td>\n      <td>True</td>\n      <td>-12.0</td>\n      <td>0.174987</td>\n      <td>[[0.0, 0.0006921916], [1.0, 0.0008636335], [2....</td>\n      <td>[[0.684283, 1.348622], [0.6863423, 2.408593], ...</td>\n      <td>[[0.684283, 1.6582719], [0.6863423, 2.4520164]...</td>\n      <td>NaN</td>\n    </tr>\n    <tr>\n      <th>...</th>\n      <td>...</td>\n      <td>...</td>\n      <td>...</td>\n      <td>...</td>\n      <td>...</td>\n      <td>...</td>\n      <td>...</td>\n      <td>...</td>\n    </tr>\n    <tr>\n      <th>946</th>\n      <td>2021-02-21 01:19:35.595877171</td>\n      <td>True</td>\n      <td>5.0</td>\n      <td>0.250992</td>\n      <td>[[0.0, -0.0005184702], [1.0, -0.00013105865], ...</td>\n      <td>[[0.684283, -0.50114834], [0.6863423, -0.18133...</td>\n      <td>[[0.684283, 0.57210094], [0.6863423, 1.2294236...</td>\n      <td>NaN</td>\n    </tr>\n    <tr>\n      <th>947</th>\n      <td>2021-02-21 01:19:36.016417979</td>\n      <td>True</td>\n      <td>5.0</td>\n      <td>0.252742</td>\n      <td>[[0.0, 0.00078865857], [1.0, 0.00089951797], [...</td>\n      <td>[[0.684283, 0.76443475], [0.6863423, 1.248048]...</td>\n      <td>[[0.684283, 1.7467835], [0.6863423, 2.493918],...</td>\n      <td>NaN</td>\n    </tr>\n    <tr>\n      <th>948</th>\n      <td>2021-02-21 01:19:36.525036097</td>\n      <td>True</td>\n      <td>5.0</td>\n      <td>0.247229</td>\n      <td>[[0.0, -5.9637492e-05], [1.0, -8.475115e-05], ...</td>\n      <td>[[0.684283, -0.056538783], [0.6863423, -0.1150...</td>\n      <td>[[0.684283, 1.7467835], [0.6863423, 2.493918],...</td>\n      <td>NaN</td>\n    </tr>\n    <tr>\n      <th>949</th>\n      <td>2021-02-21 01:19:36.990997076</td>\n      <td>True</td>\n      <td>5.0</td>\n      <td>0.242415</td>\n      <td>[[0.0, -0.0015199165], [1.0, 0.0007720378], [2...</td>\n      <td>[[0.684283, -1.507832], [0.6863423, 1.0963312]...</td>\n      <td>[[0.684283, 1.2134799], [0.6863423, 1.3878863]...</td>\n      <td>NaN</td>\n    </tr>\n    <tr>\n      <th>950</th>\n      <td>2021-02-21 01:19:37.414779902</td>\n      <td>True</td>\n      <td>5.0</td>\n      <td>0.245360</td>\n      <td>[[0.0, 8.156214e-05], [1.0, 0.0005108232], [2....</td>\n      <td>[[0.684283, 0.0784315], [0.6863423, 0.7031413]...</td>\n      <td>[[0.684283, 1.2134799], [0.6863423, 1.3878863]...</td>\n      <td>NaN</td>\n    </tr>\n  </tbody>\n</table>\n<p>951 rows × 8 columns</p>\n</div>"
     },
     "metadata": {},
     "execution_count": 12
    }
   ],
   "source": [
    "preprocessed = pd.DataFrame({\"time\": time,\n",
    "                             \"is_beam_on\": is_beam_on,\n",
    "                             \"l1_chrip_phase\": l1_chrip_phase,\n",
    "                             \"bunch_charge\": bunch_charge,\n",
    "                             \"bunch_intensity\": bunch_intensity,\n",
    "                             \"bunch_formfactor\": bunch_formfactor,\n",
    "                             \"detection_limit\": detection_limit,\n",
    "                             \"grating\": grating})\n",
    "preprocessed.to_pickle(out_file)\n",
    "preprocessed"
   ]
  },
  {
   "cell_type": "code",
   "execution_count": null,
   "metadata": {},
   "outputs": [],
   "source": []
  }
 ]
}
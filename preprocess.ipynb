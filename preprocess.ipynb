{
 "metadata": {
  "language_info": {
   "codemirror_mode": {
    "name": "ipython",
    "version": 3
   },
   "file_extension": ".py",
   "mimetype": "text/x-python",
   "name": "python",
   "nbconvert_exporter": "python",
   "pygments_lexer": "ipython3",
   "version": "3.8.7-final"
  },
  "orig_nbformat": 2,
  "kernelspec": {
   "name": "python3",
   "display_name": "Python 3.8.7 64-bit",
   "metadata": {
    "interpreter": {
     "hash": "aee8b7b246df8f9039afb4144a1f6fd8d2ca17a180786b69acc140d282b71a49"
    }
   }
  }
 },
 "nbformat": 4,
 "nbformat_minor": 2,
 "cells": [
  {
   "cell_type": "code",
   "execution_count": 1,
   "metadata": {},
   "outputs": [],
   "source": [
    "import pickle\n",
    "import pandas as pd\n",
    "from mint.snapshot import SnapshotDB"
   ]
  },
  {
   "cell_type": "code",
   "execution_count": 2,
   "metadata": {},
   "outputs": [
    {
     "output_type": "execute_result",
     "data": {
      "text/plain": [
       "     index     timestamp  BPMA.469.B2D.X  BPMA.471.B2D.X  BPMA.477.B2D.X  \\\n",
       "0        0  1.613867e+09       -0.871472       -0.740548       -9.078684   \n",
       "1        0  1.613867e+09             NaN             NaN             NaN   \n",
       "2        0  1.613867e+09             NaN             NaN             NaN   \n",
       "3        0  1.613867e+09             NaN             NaN             NaN   \n",
       "4        0  1.613867e+09             NaN             NaN             NaN   \n",
       "..     ...           ...             ...             ...             ...   \n",
       "191      0  1.613868e+09       -0.196404       -0.462844       -8.988722   \n",
       "192      0  1.613868e+09       -0.118574       -0.416242       -8.980564   \n",
       "193      0  1.613868e+09       -0.159111       -0.453179       -8.963452   \n",
       "194      0  1.613868e+09        0.036287       -0.350598       -8.857178   \n",
       "195      0  1.613868e+09       -0.082548       -0.411589       -8.943087   \n",
       "\n",
       "     BPMD.479.B2D.X  BPMA.469.B2D.Y  BPMA.471.B2D.Y  BPMA.477.B2D.Y  \\\n",
       "0         -9.347012       -0.743416        1.586650       -1.990783   \n",
       "1               NaN             NaN             NaN             NaN   \n",
       "2               NaN             NaN             NaN             NaN   \n",
       "3               NaN             NaN             NaN             NaN   \n",
       "4               NaN             NaN             NaN             NaN   \n",
       "..              ...             ...             ...             ...   \n",
       "191      -10.339814       -0.592299        1.739064       -2.760246   \n",
       "192      -10.503853       -0.640615        1.655416       -2.604078   \n",
       "193      -10.392405       -0.602040        1.704478       -2.674739   \n",
       "194      -10.685714       -0.678728        1.609633       -2.566740   \n",
       "195      -10.486503       -0.580250        1.723317       -2.723128   \n",
       "\n",
       "     BPMD.479.B2D.Y  ...  XFEL.UTIL/LASERHEATER.MOTOR/P1Z.LHOS0/FPOS  \\\n",
       "0         -5.276471  ...                                    0.279977   \n",
       "1               NaN  ...                                    0.279977   \n",
       "2               NaN  ...                                    0.279977   \n",
       "3               NaN  ...                                    0.279977   \n",
       "4               NaN  ...                                    0.279977   \n",
       "..              ...  ...                                         ...   \n",
       "191       -7.014276  ...                                    0.279977   \n",
       "192       -6.888916  ...                                    0.279977   \n",
       "193       -6.886991  ...                                    0.279977   \n",
       "194       -7.199863  ...                                    0.279977   \n",
       "195       -7.257654  ...                                    0.279977   \n",
       "\n",
       "     XFEL.UTIL/LASERHEATER.MOTOR/LAMBDA2.LHOS0/POS  \\\n",
       "0                                             1600   \n",
       "1                                             1600   \n",
       "2                                             1600   \n",
       "3                                             1600   \n",
       "4                                             1600   \n",
       "..                                             ...   \n",
       "191                                           1600   \n",
       "192                                           1600   \n",
       "193                                           1600   \n",
       "194                                           1600   \n",
       "195                                           1600   \n",
       "\n",
       "     XFEL.UTIL/LASERHEATER.MOTOR/DL.LHLVL5/FPOS  \\\n",
       "0                                    352.999786   \n",
       "1                                    352.999786   \n",
       "2                                    352.999786   \n",
       "3                                    352.999786   \n",
       "4                                    352.999786   \n",
       "..                                          ...   \n",
       "191                                  352.999786   \n",
       "192                                  352.999786   \n",
       "193                                  352.999786   \n",
       "194                                  352.999786   \n",
       "195                                  352.999786   \n",
       "\n",
       "     XFEL.UTIL/LASERINT/GUN/SH3_OPEN  XFEL.UTIL/LASERINT/GUN/SH4_OPEN  \\\n",
       "0                                  1                                0   \n",
       "1                                  1                                0   \n",
       "2                                  1                                0   \n",
       "3                                  1                                0   \n",
       "4                                  1                                0   \n",
       "..                               ...                              ...   \n",
       "191                                1                                0   \n",
       "192                                1                                0   \n",
       "193                                1                                0   \n",
       "194                                1                                0   \n",
       "195                                1                                0   \n",
       "\n",
       "     XFEL.DIAG/BEAM_ENERGY_MEASUREMENT/B1/ENERGY.ALL  \\\n",
       "0                                         700.431580   \n",
       "1                                                NaN   \n",
       "2                                                NaN   \n",
       "3                                                NaN   \n",
       "4                                                NaN   \n",
       "..                                               ...   \n",
       "191                                       702.140015   \n",
       "192                                       702.213806   \n",
       "193                                       702.183411   \n",
       "194                                       702.273621   \n",
       "195                                       702.210388   \n",
       "\n",
       "     XFEL.DIAG/BEAM_ENERGY_MEASUREMENT/B2/ENERGY.ALL  \\\n",
       "0                                        2396.147461   \n",
       "1                                                NaN   \n",
       "2                                                NaN   \n",
       "3                                                NaN   \n",
       "4                                                NaN   \n",
       "..                                               ...   \n",
       "191                                      2398.081787   \n",
       "192                                      2398.662842   \n",
       "193                                      2398.023682   \n",
       "194                                      2398.725830   \n",
       "195                                      2397.690674   \n",
       "\n",
       "     XFEL.DIAG/BEAM_ENERGY_MEASUREMENT/CL/ENERGY.ALL  \\\n",
       "0                                                NaN   \n",
       "1                                                NaN   \n",
       "2                                                NaN   \n",
       "3                                                NaN   \n",
       "4                                                NaN   \n",
       "..                                               ...   \n",
       "191                                              NaN   \n",
       "192                                              NaN   \n",
       "193                                              NaN   \n",
       "194                                              NaN   \n",
       "195                                              NaN   \n",
       "\n",
       "     XFEL.RF/LLRF.CONTROLLER/CTRL.LLTDSB2/SP.PHASE  \\\n",
       "0                                      -120.199997   \n",
       "1                                      -120.199997   \n",
       "2                                      -120.199997   \n",
       "3                                      -120.199997   \n",
       "4                                      -120.199997   \n",
       "..                                             ...   \n",
       "191                                    -120.199997   \n",
       "192                                    -120.199997   \n",
       "193                                    -120.199997   \n",
       "194                                    -120.199997   \n",
       "195                                    -120.199997   \n",
       "\n",
       "           XFEL.DIAG/CAMERA/OTRA.473.B2D/IMAGE_EXT_ZMQ  \n",
       "0    ./tds_images/OTRA.473.B2D-20210221_003018_075.png  \n",
       "1    ./tds_images/OTRA.473.B2D-20210221_003022_365.png  \n",
       "2    ./tds_images/OTRA.473.B2D-20210221_003025_623.png  \n",
       "3    ./tds_images/OTRA.473.B2D-20210221_003028_849.png  \n",
       "4    ./tds_images/OTRA.473.B2D-20210221_003031_920.png  \n",
       "..                                                 ...  \n",
       "191  ./tds_images/OTRA.473.B2D-20210221_004128_680.png  \n",
       "192  ./tds_images/OTRA.473.B2D-20210221_004132_030.png  \n",
       "193  ./tds_images/OTRA.473.B2D-20210221_004135_293.png  \n",
       "194  ./tds_images/OTRA.473.B2D-20210221_004138_668.png  \n",
       "195  ./tds_images/OTRA.473.B2D-20210221_004141_955.png  \n",
       "\n",
       "[196 rows x 369 columns]"
      ],
      "text/html": "<div>\n<style scoped>\n    .dataframe tbody tr th:only-of-type {\n        vertical-align: middle;\n    }\n\n    .dataframe tbody tr th {\n        vertical-align: top;\n    }\n\n    .dataframe thead th {\n        text-align: right;\n    }\n</style>\n<table border=\"1\" class=\"dataframe\">\n  <thead>\n    <tr style=\"text-align: right;\">\n      <th></th>\n      <th>index</th>\n      <th>timestamp</th>\n      <th>BPMA.469.B2D.X</th>\n      <th>BPMA.471.B2D.X</th>\n      <th>BPMA.477.B2D.X</th>\n      <th>BPMD.479.B2D.X</th>\n      <th>BPMA.469.B2D.Y</th>\n      <th>BPMA.471.B2D.Y</th>\n      <th>BPMA.477.B2D.Y</th>\n      <th>BPMD.479.B2D.Y</th>\n      <th>...</th>\n      <th>XFEL.UTIL/LASERHEATER.MOTOR/P1Z.LHOS0/FPOS</th>\n      <th>XFEL.UTIL/LASERHEATER.MOTOR/LAMBDA2.LHOS0/POS</th>\n      <th>XFEL.UTIL/LASERHEATER.MOTOR/DL.LHLVL5/FPOS</th>\n      <th>XFEL.UTIL/LASERINT/GUN/SH3_OPEN</th>\n      <th>XFEL.UTIL/LASERINT/GUN/SH4_OPEN</th>\n      <th>XFEL.DIAG/BEAM_ENERGY_MEASUREMENT/B1/ENERGY.ALL</th>\n      <th>XFEL.DIAG/BEAM_ENERGY_MEASUREMENT/B2/ENERGY.ALL</th>\n      <th>XFEL.DIAG/BEAM_ENERGY_MEASUREMENT/CL/ENERGY.ALL</th>\n      <th>XFEL.RF/LLRF.CONTROLLER/CTRL.LLTDSB2/SP.PHASE</th>\n      <th>XFEL.DIAG/CAMERA/OTRA.473.B2D/IMAGE_EXT_ZMQ</th>\n    </tr>\n  </thead>\n  <tbody>\n    <tr>\n      <th>0</th>\n      <td>0</td>\n      <td>1.613867e+09</td>\n      <td>-0.871472</td>\n      <td>-0.740548</td>\n      <td>-9.078684</td>\n      <td>-9.347012</td>\n      <td>-0.743416</td>\n      <td>1.586650</td>\n      <td>-1.990783</td>\n      <td>-5.276471</td>\n      <td>...</td>\n      <td>0.279977</td>\n      <td>1600</td>\n      <td>352.999786</td>\n      <td>1</td>\n      <td>0</td>\n      <td>700.431580</td>\n      <td>2396.147461</td>\n      <td>NaN</td>\n      <td>-120.199997</td>\n      <td>./tds_images/OTRA.473.B2D-20210221_003018_075.png</td>\n    </tr>\n    <tr>\n      <th>1</th>\n      <td>0</td>\n      <td>1.613867e+09</td>\n      <td>NaN</td>\n      <td>NaN</td>\n      <td>NaN</td>\n      <td>NaN</td>\n      <td>NaN</td>\n      <td>NaN</td>\n      <td>NaN</td>\n      <td>NaN</td>\n      <td>...</td>\n      <td>0.279977</td>\n      <td>1600</td>\n      <td>352.999786</td>\n      <td>1</td>\n      <td>0</td>\n      <td>NaN</td>\n      <td>NaN</td>\n      <td>NaN</td>\n      <td>-120.199997</td>\n      <td>./tds_images/OTRA.473.B2D-20210221_003022_365.png</td>\n    </tr>\n    <tr>\n      <th>2</th>\n      <td>0</td>\n      <td>1.613867e+09</td>\n      <td>NaN</td>\n      <td>NaN</td>\n      <td>NaN</td>\n      <td>NaN</td>\n      <td>NaN</td>\n      <td>NaN</td>\n      <td>NaN</td>\n      <td>NaN</td>\n      <td>...</td>\n      <td>0.279977</td>\n      <td>1600</td>\n      <td>352.999786</td>\n      <td>1</td>\n      <td>0</td>\n      <td>NaN</td>\n      <td>NaN</td>\n      <td>NaN</td>\n      <td>-120.199997</td>\n      <td>./tds_images/OTRA.473.B2D-20210221_003025_623.png</td>\n    </tr>\n    <tr>\n      <th>3</th>\n      <td>0</td>\n      <td>1.613867e+09</td>\n      <td>NaN</td>\n      <td>NaN</td>\n      <td>NaN</td>\n      <td>NaN</td>\n      <td>NaN</td>\n      <td>NaN</td>\n      <td>NaN</td>\n      <td>NaN</td>\n      <td>...</td>\n      <td>0.279977</td>\n      <td>1600</td>\n      <td>352.999786</td>\n      <td>1</td>\n      <td>0</td>\n      <td>NaN</td>\n      <td>NaN</td>\n      <td>NaN</td>\n      <td>-120.199997</td>\n      <td>./tds_images/OTRA.473.B2D-20210221_003028_849.png</td>\n    </tr>\n    <tr>\n      <th>4</th>\n      <td>0</td>\n      <td>1.613867e+09</td>\n      <td>NaN</td>\n      <td>NaN</td>\n      <td>NaN</td>\n      <td>NaN</td>\n      <td>NaN</td>\n      <td>NaN</td>\n      <td>NaN</td>\n      <td>NaN</td>\n      <td>...</td>\n      <td>0.279977</td>\n      <td>1600</td>\n      <td>352.999786</td>\n      <td>1</td>\n      <td>0</td>\n      <td>NaN</td>\n      <td>NaN</td>\n      <td>NaN</td>\n      <td>-120.199997</td>\n      <td>./tds_images/OTRA.473.B2D-20210221_003031_920.png</td>\n    </tr>\n    <tr>\n      <th>...</th>\n      <td>...</td>\n      <td>...</td>\n      <td>...</td>\n      <td>...</td>\n      <td>...</td>\n      <td>...</td>\n      <td>...</td>\n      <td>...</td>\n      <td>...</td>\n      <td>...</td>\n      <td>...</td>\n      <td>...</td>\n      <td>...</td>\n      <td>...</td>\n      <td>...</td>\n      <td>...</td>\n      <td>...</td>\n      <td>...</td>\n      <td>...</td>\n      <td>...</td>\n      <td>...</td>\n    </tr>\n    <tr>\n      <th>191</th>\n      <td>0</td>\n      <td>1.613868e+09</td>\n      <td>-0.196404</td>\n      <td>-0.462844</td>\n      <td>-8.988722</td>\n      <td>-10.339814</td>\n      <td>-0.592299</td>\n      <td>1.739064</td>\n      <td>-2.760246</td>\n      <td>-7.014276</td>\n      <td>...</td>\n      <td>0.279977</td>\n      <td>1600</td>\n      <td>352.999786</td>\n      <td>1</td>\n      <td>0</td>\n      <td>702.140015</td>\n      <td>2398.081787</td>\n      <td>NaN</td>\n      <td>-120.199997</td>\n      <td>./tds_images/OTRA.473.B2D-20210221_004128_680.png</td>\n    </tr>\n    <tr>\n      <th>192</th>\n      <td>0</td>\n      <td>1.613868e+09</td>\n      <td>-0.118574</td>\n      <td>-0.416242</td>\n      <td>-8.980564</td>\n      <td>-10.503853</td>\n      <td>-0.640615</td>\n      <td>1.655416</td>\n      <td>-2.604078</td>\n      <td>-6.888916</td>\n      <td>...</td>\n      <td>0.279977</td>\n      <td>1600</td>\n      <td>352.999786</td>\n      <td>1</td>\n      <td>0</td>\n      <td>702.213806</td>\n      <td>2398.662842</td>\n      <td>NaN</td>\n      <td>-120.199997</td>\n      <td>./tds_images/OTRA.473.B2D-20210221_004132_030.png</td>\n    </tr>\n    <tr>\n      <th>193</th>\n      <td>0</td>\n      <td>1.613868e+09</td>\n      <td>-0.159111</td>\n      <td>-0.453179</td>\n      <td>-8.963452</td>\n      <td>-10.392405</td>\n      <td>-0.602040</td>\n      <td>1.704478</td>\n      <td>-2.674739</td>\n      <td>-6.886991</td>\n      <td>...</td>\n      <td>0.279977</td>\n      <td>1600</td>\n      <td>352.999786</td>\n      <td>1</td>\n      <td>0</td>\n      <td>702.183411</td>\n      <td>2398.023682</td>\n      <td>NaN</td>\n      <td>-120.199997</td>\n      <td>./tds_images/OTRA.473.B2D-20210221_004135_293.png</td>\n    </tr>\n    <tr>\n      <th>194</th>\n      <td>0</td>\n      <td>1.613868e+09</td>\n      <td>0.036287</td>\n      <td>-0.350598</td>\n      <td>-8.857178</td>\n      <td>-10.685714</td>\n      <td>-0.678728</td>\n      <td>1.609633</td>\n      <td>-2.566740</td>\n      <td>-7.199863</td>\n      <td>...</td>\n      <td>0.279977</td>\n      <td>1600</td>\n      <td>352.999786</td>\n      <td>1</td>\n      <td>0</td>\n      <td>702.273621</td>\n      <td>2398.725830</td>\n      <td>NaN</td>\n      <td>-120.199997</td>\n      <td>./tds_images/OTRA.473.B2D-20210221_004138_668.png</td>\n    </tr>\n    <tr>\n      <th>195</th>\n      <td>0</td>\n      <td>1.613868e+09</td>\n      <td>-0.082548</td>\n      <td>-0.411589</td>\n      <td>-8.943087</td>\n      <td>-10.486503</td>\n      <td>-0.580250</td>\n      <td>1.723317</td>\n      <td>-2.723128</td>\n      <td>-7.257654</td>\n      <td>...</td>\n      <td>0.279977</td>\n      <td>1600</td>\n      <td>352.999786</td>\n      <td>1</td>\n      <td>0</td>\n      <td>702.210388</td>\n      <td>2397.690674</td>\n      <td>NaN</td>\n      <td>-120.199997</td>\n      <td>./tds_images/OTRA.473.B2D-20210221_004141_955.png</td>\n    </tr>\n  </tbody>\n</table>\n<p>196 rows × 369 columns</p>\n</div>"
     },
     "metadata": {},
     "execution_count": 2
    }
   ],
   "source": [
    "db = SnapshotDB(\"20210221-01_30_17_scan_phase1.pcl\")\n",
    "df = db.load()\n",
    "df"
   ]
  },
  {
   "cell_type": "code",
   "execution_count": 3,
   "metadata": {},
   "outputs": [
    {
     "output_type": "execute_result",
     "data": {
      "text/plain": [
       "0     2021-02-21 00:30:17.046674013\n",
       "1     2021-02-21 00:30:22.084268093\n",
       "2     2021-02-21 00:30:25.301686049\n",
       "3     2021-02-21 00:30:28.509352922\n",
       "4     2021-02-21 00:30:31.663580894\n",
       "                   ...             \n",
       "191   2021-02-21 00:41:28.365645170\n",
       "192   2021-02-21 00:41:31.679569960\n",
       "193   2021-02-21 00:41:34.964040041\n",
       "194   2021-02-21 00:41:38.410810947\n",
       "195   2021-02-21 00:41:41.683007002\n",
       "Name: timestamp, Length: 196, dtype: datetime64[ns]"
      ]
     },
     "metadata": {},
     "execution_count": 3
    }
   ],
   "source": [
    "# Timestamps\n",
    "time = pd.to_datetime(df[\"timestamp\"], unit=\"s\")\n",
    "time"
   ]
  },
  {
   "cell_type": "code",
   "execution_count": 7,
   "metadata": {},
   "outputs": [
    {
     "output_type": "execute_result",
     "data": {
      "text/plain": [
       "0      [[0, 0, 0, 0, 0, 0, 0, 0, 0, 0, 11, 0, 4, 13, ...\n",
       "1      [[12, 5, 4, 4, 14, 6, 0, 0, 1, 14, 9, 0, 0, 12...\n",
       "2      [[0, 12, 0, 0, 14, 0, 18, 18, 11, 0, 24, 9, 0,...\n",
       "3      [[0, 0, 3, 0, 15, 9, 0, 0, 9, 0, 22, 18, 17, 0...\n",
       "4      [[2, 0, 0, 0, 15, 11, 0, 0, 30, 0, 0, 0, 0, 11...\n",
       "                             ...                        \n",
       "191    [[0, 6, 1, 0, 17, 1, 0, 13, 0, 0, 13, 0, 0, 0,...\n",
       "192    [[0, 0, 0, 0, 5, 1, 0, 0, 0, 0, 25, 0, 0, 0, 1...\n",
       "193    [[0, 0, 0, 0, 22, 11, 0, 0, 0, 1, 26, 0, 0, 7,...\n",
       "194    [[0, 0, 0, 0, 7, 0, 0, 0, 0, 0, 0, 0, 0, 0, 0,...\n",
       "195    [[0, 0, 0, 0, 0, 0, 0, 10, 0, 6, 15, 0, 0, 0, ...\n",
       "Name: XFEL.DIAG/CAMERA/OTRA.473.B2D/IMAGE_EXT_ZMQ, Length: 196, dtype: object"
      ]
     },
     "metadata": {},
     "execution_count": 7
    }
   ],
   "source": [
    "# TDS images\n",
    "tds_image = df[\"XFEL.DIAG/CAMERA/OTRA.473.B2D/IMAGE_EXT_ZMQ\"].apply(lambda path: pickle.load(open(path[2:-4]+\".pcl\", \"rb\")))\n",
    "tds_image"
   ]
  },
  {
   "cell_type": "code",
   "execution_count": 5,
   "metadata": {},
   "outputs": [
    {
     "output_type": "execute_result",
     "data": {
      "text/plain": [
       "0       True\n",
       "1      False\n",
       "2      False\n",
       "3      False\n",
       "4      False\n",
       "       ...  \n",
       "191     True\n",
       "192     True\n",
       "193     True\n",
       "194     True\n",
       "195     True\n",
       "Name: XFEL.UTIL/BUNCH_PATTERN/CONTROL/BEAM_ALLOWED, Length: 196, dtype: bool"
      ]
     },
     "metadata": {},
     "execution_count": 5
    }
   ],
   "source": [
    "# Beam on\n",
    "is_beam_on = df[\"XFEL.UTIL/BUNCH_PATTERN/CONTROL/BEAM_ALLOWED\"].astype(\"bool\")\n",
    "is_beam_on"
   ]
  },
  {
   "cell_type": "code",
   "execution_count": 6,
   "metadata": {},
   "outputs": [
    {
     "output_type": "execute_result",
     "data": {
      "text/plain": [
       "0     -7.0\n",
       "1     -7.0\n",
       "2     -7.0\n",
       "3     -7.0\n",
       "4     -7.0\n",
       "      ... \n",
       "191    5.0\n",
       "192    5.0\n",
       "193    5.0\n",
       "194    5.0\n",
       "195    5.0\n",
       "Name: XFEL.RF/LLRF.SUMVOLTAGE_CTRL/L1/SUMVOLTAGE.CHIRP.SP.1, Length: 196, dtype: float64"
      ]
     },
     "metadata": {},
     "execution_count": 6
    }
   ],
   "source": [
    "# L1 chrip phase\n",
    "l1_chrip_phase = df[\"XFEL.RF/LLRF.SUMVOLTAGE_CTRL/L1/SUMVOLTAGE.CHIRP.SP.1\"]\n",
    "l1_chrip_phase"
   ]
  },
  {
   "cell_type": "code",
   "execution_count": 9,
   "metadata": {},
   "outputs": [
    {
     "output_type": "execute_result",
     "data": {
      "text/plain": [
       "                             time  \\\n",
       "0   2021-02-21 00:30:17.046674013   \n",
       "1   2021-02-21 00:30:22.084268093   \n",
       "2   2021-02-21 00:30:25.301686049   \n",
       "3   2021-02-21 00:30:28.509352922   \n",
       "4   2021-02-21 00:30:31.663580894   \n",
       "..                            ...   \n",
       "191 2021-02-21 00:41:28.365645170   \n",
       "192 2021-02-21 00:41:31.679569960   \n",
       "193 2021-02-21 00:41:34.964040041   \n",
       "194 2021-02-21 00:41:38.410810947   \n",
       "195 2021-02-21 00:41:41.683007002   \n",
       "\n",
       "                                             tds_image  is_beam_on  \\\n",
       "0    [[0, 0, 0, 0, 0, 0, 0, 0, 0, 0, 11, 0, 4, 13, ...        True   \n",
       "1    [[12, 5, 4, 4, 14, 6, 0, 0, 1, 14, 9, 0, 0, 12...       False   \n",
       "2    [[0, 12, 0, 0, 14, 0, 18, 18, 11, 0, 24, 9, 0,...       False   \n",
       "3    [[0, 0, 3, 0, 15, 9, 0, 0, 9, 0, 22, 18, 17, 0...       False   \n",
       "4    [[2, 0, 0, 0, 15, 11, 0, 0, 30, 0, 0, 0, 0, 11...       False   \n",
       "..                                                 ...         ...   \n",
       "191  [[0, 6, 1, 0, 17, 1, 0, 13, 0, 0, 13, 0, 0, 0,...        True   \n",
       "192  [[0, 0, 0, 0, 5, 1, 0, 0, 0, 0, 25, 0, 0, 0, 1...        True   \n",
       "193  [[0, 0, 0, 0, 22, 11, 0, 0, 0, 1, 26, 0, 0, 7,...        True   \n",
       "194  [[0, 0, 0, 0, 7, 0, 0, 0, 0, 0, 0, 0, 0, 0, 0,...        True   \n",
       "195  [[0, 0, 0, 0, 0, 0, 0, 10, 0, 6, 15, 0, 0, 0, ...        True   \n",
       "\n",
       "     l1_chrip_phase  \n",
       "0              -7.0  \n",
       "1              -7.0  \n",
       "2              -7.0  \n",
       "3              -7.0  \n",
       "4              -7.0  \n",
       "..              ...  \n",
       "191             5.0  \n",
       "192             5.0  \n",
       "193             5.0  \n",
       "194             5.0  \n",
       "195             5.0  \n",
       "\n",
       "[196 rows x 4 columns]"
      ],
      "text/html": "<div>\n<style scoped>\n    .dataframe tbody tr th:only-of-type {\n        vertical-align: middle;\n    }\n\n    .dataframe tbody tr th {\n        vertical-align: top;\n    }\n\n    .dataframe thead th {\n        text-align: right;\n    }\n</style>\n<table border=\"1\" class=\"dataframe\">\n  <thead>\n    <tr style=\"text-align: right;\">\n      <th></th>\n      <th>time</th>\n      <th>tds_image</th>\n      <th>is_beam_on</th>\n      <th>l1_chrip_phase</th>\n    </tr>\n  </thead>\n  <tbody>\n    <tr>\n      <th>0</th>\n      <td>2021-02-21 00:30:17.046674013</td>\n      <td>[[0, 0, 0, 0, 0, 0, 0, 0, 0, 0, 11, 0, 4, 13, ...</td>\n      <td>True</td>\n      <td>-7.0</td>\n    </tr>\n    <tr>\n      <th>1</th>\n      <td>2021-02-21 00:30:22.084268093</td>\n      <td>[[12, 5, 4, 4, 14, 6, 0, 0, 1, 14, 9, 0, 0, 12...</td>\n      <td>False</td>\n      <td>-7.0</td>\n    </tr>\n    <tr>\n      <th>2</th>\n      <td>2021-02-21 00:30:25.301686049</td>\n      <td>[[0, 12, 0, 0, 14, 0, 18, 18, 11, 0, 24, 9, 0,...</td>\n      <td>False</td>\n      <td>-7.0</td>\n    </tr>\n    <tr>\n      <th>3</th>\n      <td>2021-02-21 00:30:28.509352922</td>\n      <td>[[0, 0, 3, 0, 15, 9, 0, 0, 9, 0, 22, 18, 17, 0...</td>\n      <td>False</td>\n      <td>-7.0</td>\n    </tr>\n    <tr>\n      <th>4</th>\n      <td>2021-02-21 00:30:31.663580894</td>\n      <td>[[2, 0, 0, 0, 15, 11, 0, 0, 30, 0, 0, 0, 0, 11...</td>\n      <td>False</td>\n      <td>-7.0</td>\n    </tr>\n    <tr>\n      <th>...</th>\n      <td>...</td>\n      <td>...</td>\n      <td>...</td>\n      <td>...</td>\n    </tr>\n    <tr>\n      <th>191</th>\n      <td>2021-02-21 00:41:28.365645170</td>\n      <td>[[0, 6, 1, 0, 17, 1, 0, 13, 0, 0, 13, 0, 0, 0,...</td>\n      <td>True</td>\n      <td>5.0</td>\n    </tr>\n    <tr>\n      <th>192</th>\n      <td>2021-02-21 00:41:31.679569960</td>\n      <td>[[0, 0, 0, 0, 5, 1, 0, 0, 0, 0, 25, 0, 0, 0, 1...</td>\n      <td>True</td>\n      <td>5.0</td>\n    </tr>\n    <tr>\n      <th>193</th>\n      <td>2021-02-21 00:41:34.964040041</td>\n      <td>[[0, 0, 0, 0, 22, 11, 0, 0, 0, 1, 26, 0, 0, 7,...</td>\n      <td>True</td>\n      <td>5.0</td>\n    </tr>\n    <tr>\n      <th>194</th>\n      <td>2021-02-21 00:41:38.410810947</td>\n      <td>[[0, 0, 0, 0, 7, 0, 0, 0, 0, 0, 0, 0, 0, 0, 0,...</td>\n      <td>True</td>\n      <td>5.0</td>\n    </tr>\n    <tr>\n      <th>195</th>\n      <td>2021-02-21 00:41:41.683007002</td>\n      <td>[[0, 0, 0, 0, 0, 0, 0, 10, 0, 6, 15, 0, 0, 0, ...</td>\n      <td>True</td>\n      <td>5.0</td>\n    </tr>\n  </tbody>\n</table>\n<p>196 rows × 4 columns</p>\n</div>"
     },
     "metadata": {},
     "execution_count": 9
    }
   ],
   "source": [
    "preprocessed = pd.DataFrame({\"time\": time, \"tds_image\": tds_image, \"is_beam_on\": is_beam_on, \"l1_chrip_phase\": l1_chrip_phase})\n",
    "preprocessed.to_pickle(\"preprocessed_phase_1.pkl\")\n",
    "preprocessed"
   ]
  },
  {
   "cell_type": "code",
   "execution_count": null,
   "metadata": {},
   "outputs": [],
   "source": []
  }
 ]
}